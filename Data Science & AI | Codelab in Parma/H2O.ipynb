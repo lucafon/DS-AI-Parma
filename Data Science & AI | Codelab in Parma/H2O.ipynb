{
 "cells": [
  {
   "cell_type": "code",
   "execution_count": 1,
   "metadata": {},
   "outputs": [],
   "source": [
    "import h2o"
   ]
  },
  {
   "cell_type": "code",
   "execution_count": 2,
   "metadata": {},
   "outputs": [
    {
     "name": "stdout",
     "output_type": "stream",
     "text": [
      "Checking whether there is an H2O instance running at http://localhost:54321. connected.\n"
     ]
    },
    {
     "data": {
      "text/html": [
       "<div style=\"overflow:auto\"><table style=\"width:50%\"><tr><td>H2O cluster uptime:</td>\n",
       "<td>1 hour 13 mins</td></tr>\n",
       "<tr><td>H2O cluster timezone:</td>\n",
       "<td>UTC</td></tr>\n",
       "<tr><td>H2O data parsing timezone:</td>\n",
       "<td>UTC</td></tr>\n",
       "<tr><td>H2O cluster version:</td>\n",
       "<td>3.20.0.7</td></tr>\n",
       "<tr><td>H2O cluster version age:</td>\n",
       "<td>1 month and 8 days </td></tr>\n",
       "<tr><td>H2O cluster name:</td>\n",
       "<td>H2O_from_python_Admin_pxf02l</td></tr>\n",
       "<tr><td>H2O cluster total nodes:</td>\n",
       "<td>1</td></tr>\n",
       "<tr><td>H2O cluster free memory:</td>\n",
       "<td>805 Mb</td></tr>\n",
       "<tr><td>H2O cluster total cores:</td>\n",
       "<td>1</td></tr>\n",
       "<tr><td>H2O cluster allowed cores:</td>\n",
       "<td>1</td></tr>\n",
       "<tr><td>H2O cluster status:</td>\n",
       "<td>locked, healthy</td></tr>\n",
       "<tr><td>H2O connection url:</td>\n",
       "<td>http://localhost:54321</td></tr>\n",
       "<tr><td>H2O connection proxy:</td>\n",
       "<td>None</td></tr>\n",
       "<tr><td>H2O internal security:</td>\n",
       "<td>False</td></tr>\n",
       "<tr><td>H2O API Extensions:</td>\n",
       "<td>XGBoost, Algos, AutoML, Core V3, Core V4</td></tr>\n",
       "<tr><td>Python version:</td>\n",
       "<td>3.6.4 final</td></tr></table></div>"
      ],
      "text/plain": [
       "--------------------------  ----------------------------------------\n",
       "H2O cluster uptime:         1 hour 13 mins\n",
       "H2O cluster timezone:       UTC\n",
       "H2O data parsing timezone:  UTC\n",
       "H2O cluster version:        3.20.0.7\n",
       "H2O cluster version age:    1 month and 8 days\n",
       "H2O cluster name:           H2O_from_python_Admin_pxf02l\n",
       "H2O cluster total nodes:    1\n",
       "H2O cluster free memory:    805 Mb\n",
       "H2O cluster total cores:    1\n",
       "H2O cluster allowed cores:  1\n",
       "H2O cluster status:         locked, healthy\n",
       "H2O connection url:         http://localhost:54321\n",
       "H2O connection proxy:\n",
       "H2O internal security:      False\n",
       "H2O API Extensions:         XGBoost, Algos, AutoML, Core V3, Core V4\n",
       "Python version:             3.6.4 final\n",
       "--------------------------  ----------------------------------------"
      ]
     },
     "metadata": {},
     "output_type": "display_data"
    }
   ],
   "source": [
    "h2o.init(strict_version_check=False)"
   ]
  },
  {
   "cell_type": "code",
   "execution_count": 4,
   "metadata": {},
   "outputs": [
    {
     "name": "stdout",
     "output_type": "stream",
     "text": [
      "Parse progress: |█████████████████████████████████████████████████████████| 100%\n"
     ]
    }
   ],
   "source": [
    "url = 'http://h2o-public-test-data.s3.amazonaws.com/smalldata/iris/iris_wheader.csv'\n",
    "iris = h2o.import_file(url)"
   ]
  },
  {
   "cell_type": "code",
   "execution_count": 5,
   "metadata": {},
   "outputs": [],
   "source": [
    "train, test = iris.split_frame([0.8])"
   ]
  },
  {
   "cell_type": "code",
   "execution_count": 6,
   "metadata": {},
   "outputs": [],
   "source": [
    "from h2o.estimators.deeplearning import H2ODeepLearningEstimator"
   ]
  },
  {
   "cell_type": "code",
   "execution_count": 7,
   "metadata": {},
   "outputs": [],
   "source": [
    "from h2o.estimators.random_forest import H2ORandomForestEstimator"
   ]
  },
  {
   "cell_type": "code",
   "execution_count": 8,
   "metadata": {},
   "outputs": [
    {
     "name": "stdout",
     "output_type": "stream",
     "text": [
      "drf Model Build progress: |███████████████████████████████████████████████| 100%\n"
     ]
    }
   ],
   "source": [
    "mRF = H2ORandomForestEstimator()\n",
    "mRF.train(['sepal_len', 'sepal_wid', 'petal_len', 'petal_wid'], 'class',train)"
   ]
  },
  {
   "cell_type": "code",
   "execution_count": 9,
   "metadata": {},
   "outputs": [
    {
     "name": "stdout",
     "output_type": "stream",
     "text": [
      "Model Details\n",
      "=============\n",
      "H2ORandomForestEstimator :  Distributed Random Forest\n",
      "Model Key:  DRF_model_python_1539109924612_1\n",
      "\n",
      "\n",
      "ModelMetricsMultinomial: drf\n",
      "** Reported on train data. **\n",
      "\n",
      "MSE: 0.0437613213886562\n",
      "RMSE: 0.20919206817816063\n",
      "LogLoss: 0.14802192374403544\n",
      "Mean Per-Class Error: 0.0705128205128205\n",
      "Confusion Matrix: Row labels: Actual class; Column labels: Predicted class\n",
      "\n"
     ]
    },
    {
     "data": {
      "text/html": [
       "<div style=\"overflow:auto\"><table style=\"width:50%\"><tr><td><b>Iris-setosa</b></td>\n",
       "<td><b>Iris-versicolor</b></td>\n",
       "<td><b>Iris-virginica</b></td>\n",
       "<td><b>Error</b></td>\n",
       "<td><b>Rate</b></td></tr>\n",
       "<tr><td>43.0</td>\n",
       "<td>0.0</td>\n",
       "<td>0.0</td>\n",
       "<td>0.0</td>\n",
       "<td>0 / 43</td></tr>\n",
       "<tr><td>0.0</td>\n",
       "<td>44.0</td>\n",
       "<td>4.0</td>\n",
       "<td>0.0833333</td>\n",
       "<td>4 / 48</td></tr>\n",
       "<tr><td>0.0</td>\n",
       "<td>5.0</td>\n",
       "<td>34.0</td>\n",
       "<td>0.1282051</td>\n",
       "<td>5 / 39</td></tr>\n",
       "<tr><td>43.0</td>\n",
       "<td>49.0</td>\n",
       "<td>38.0</td>\n",
       "<td>0.0692308</td>\n",
       "<td>9 / 130</td></tr></table></div>"
      ],
      "text/plain": [
       "Iris-setosa    Iris-versicolor    Iris-virginica    Error      Rate\n",
       "-------------  -----------------  ----------------  ---------  -------\n",
       "43             0                  0                 0          0 / 43\n",
       "0              44                 4                 0.0833333  4 / 48\n",
       "0              5                  34                0.128205   5 / 39\n",
       "43             49                 38                0.0692308  9 / 130"
      ]
     },
     "metadata": {},
     "output_type": "display_data"
    },
    {
     "name": "stdout",
     "output_type": "stream",
     "text": [
      "Top-3 Hit Ratios: \n"
     ]
    },
    {
     "data": {
      "text/html": [
       "<div style=\"overflow:auto\"><table style=\"width:50%\"><tr><td><b>k</b></td>\n",
       "<td><b>hit_ratio</b></td></tr>\n",
       "<tr><td>1</td>\n",
       "<td>0.9307692</td></tr>\n",
       "<tr><td>2</td>\n",
       "<td>1.0</td></tr>\n",
       "<tr><td>3</td>\n",
       "<td>1.0</td></tr></table></div>"
      ],
      "text/plain": [
       "k    hit_ratio\n",
       "---  -----------\n",
       "1    0.930769\n",
       "2    1\n",
       "3    1"
      ]
     },
     "metadata": {},
     "output_type": "display_data"
    },
    {
     "name": "stdout",
     "output_type": "stream",
     "text": [
      "Scoring History: \n"
     ]
    },
    {
     "data": {
      "text/html": [
       "<div style=\"overflow:auto\"><table style=\"width:50%\"><tr><td><b></b></td>\n",
       "<td><b>timestamp</b></td>\n",
       "<td><b>duration</b></td>\n",
       "<td><b>number_of_trees</b></td>\n",
       "<td><b>training_rmse</b></td>\n",
       "<td><b>training_logloss</b></td>\n",
       "<td><b>training_classification_error</b></td></tr>\n",
       "<tr><td></td>\n",
       "<td>2018-10-09 18:37:16</td>\n",
       "<td> 0.064 sec</td>\n",
       "<td>0.0</td>\n",
       "<td>nan</td>\n",
       "<td>nan</td>\n",
       "<td>nan</td></tr>\n",
       "<tr><td></td>\n",
       "<td>2018-10-09 18:37:16</td>\n",
       "<td> 0.283 sec</td>\n",
       "<td>1.0</td>\n",
       "<td>0.3333333</td>\n",
       "<td>3.8376418</td>\n",
       "<td>0.0888889</td></tr>\n",
       "<tr><td></td>\n",
       "<td>2018-10-09 18:37:16</td>\n",
       "<td> 0.330 sec</td>\n",
       "<td>2.0</td>\n",
       "<td>0.2750748</td>\n",
       "<td>1.9298219</td>\n",
       "<td>0.0666667</td></tr>\n",
       "<tr><td></td>\n",
       "<td>2018-10-09 18:37:16</td>\n",
       "<td> 0.353 sec</td>\n",
       "<td>3.0</td>\n",
       "<td>0.2658049</td>\n",
       "<td>1.8357668</td>\n",
       "<td>0.0510204</td></tr>\n",
       "<tr><td></td>\n",
       "<td>2018-10-09 18:37:16</td>\n",
       "<td> 0.393 sec</td>\n",
       "<td>4.0</td>\n",
       "<td>0.2852252</td>\n",
       "<td>2.3021798</td>\n",
       "<td>0.0740741</td></tr>\n",
       "<tr><td>---</td>\n",
       "<td>---</td>\n",
       "<td>---</td>\n",
       "<td>---</td>\n",
       "<td>---</td>\n",
       "<td>---</td>\n",
       "<td>---</td></tr>\n",
       "<tr><td></td>\n",
       "<td>2018-10-09 18:37:17</td>\n",
       "<td> 0.997 sec</td>\n",
       "<td>46.0</td>\n",
       "<td>0.2160870</td>\n",
       "<td>0.3999068</td>\n",
       "<td>0.0692308</td></tr>\n",
       "<tr><td></td>\n",
       "<td>2018-10-09 18:37:17</td>\n",
       "<td> 1.034 sec</td>\n",
       "<td>47.0</td>\n",
       "<td>0.2157237</td>\n",
       "<td>0.3996317</td>\n",
       "<td>0.0692308</td></tr>\n",
       "<tr><td></td>\n",
       "<td>2018-10-09 18:37:17</td>\n",
       "<td> 1.041 sec</td>\n",
       "<td>48.0</td>\n",
       "<td>0.2158048</td>\n",
       "<td>0.4004095</td>\n",
       "<td>0.0692308</td></tr>\n",
       "<tr><td></td>\n",
       "<td>2018-10-09 18:37:17</td>\n",
       "<td> 1.049 sec</td>\n",
       "<td>49.0</td>\n",
       "<td>0.2117870</td>\n",
       "<td>0.1518886</td>\n",
       "<td>0.0692308</td></tr>\n",
       "<tr><td></td>\n",
       "<td>2018-10-09 18:37:17</td>\n",
       "<td> 1.057 sec</td>\n",
       "<td>50.0</td>\n",
       "<td>0.2091921</td>\n",
       "<td>0.1480219</td>\n",
       "<td>0.0692308</td></tr></table></div>"
      ],
      "text/plain": [
       "     timestamp            duration    number_of_trees    training_rmse        training_logloss     training_classification_error\n",
       "---  -------------------  ----------  -----------------  -------------------  -------------------  -------------------------------\n",
       "     2018-10-09 18:37:16  0.064 sec   0.0                nan                  nan                  nan\n",
       "     2018-10-09 18:37:16  0.283 sec   1.0                0.3333333333333333   3.8376418216567427   0.08888888888888889\n",
       "     2018-10-09 18:37:16  0.330 sec   2.0                0.27507479931172046  1.9298219101610088   0.06666666666666667\n",
       "     2018-10-09 18:37:16  0.353 sec   3.0                0.26580486784871665  1.8357667741621828   0.05102040816326531\n",
       "     2018-10-09 18:37:16  0.393 sec   4.0                0.2852252288726324   2.302179842189468    0.07407407407407407\n",
       "---  ---                  ---         ---                ---                  ---                  ---\n",
       "     2018-10-09 18:37:17  0.997 sec   46.0               0.2160870099786929   0.3999067704763647   0.06923076923076923\n",
       "     2018-10-09 18:37:17  1.034 sec   47.0               0.21572369838632707  0.39963168763400253  0.06923076923076923\n",
       "     2018-10-09 18:37:17  1.041 sec   48.0               0.21580477138128928  0.4004094528903261   0.06923076923076923\n",
       "     2018-10-09 18:37:17  1.049 sec   49.0               0.21178695737591702  0.15188859724348933  0.06923076923076923\n",
       "     2018-10-09 18:37:17  1.057 sec   50.0               0.20919206817816063  0.14802192374403544  0.06923076923076923"
      ]
     },
     "metadata": {},
     "output_type": "display_data"
    },
    {
     "name": "stdout",
     "output_type": "stream",
     "text": [
      "\n",
      "See the whole table with table.as_data_frame()\n",
      "Variable Importances: \n"
     ]
    },
    {
     "data": {
      "text/html": [
       "<div style=\"overflow:auto\"><table style=\"width:50%\"><tr><td><b>variable</b></td>\n",
       "<td><b>relative_importance</b></td>\n",
       "<td><b>scaled_importance</b></td>\n",
       "<td><b>percentage</b></td></tr>\n",
       "<tr><td>petal_len</td>\n",
       "<td>1807.9028320</td>\n",
       "<td>1.0</td>\n",
       "<td>0.4859555</td></tr>\n",
       "<tr><td>petal_wid</td>\n",
       "<td>1495.8281250</td>\n",
       "<td>0.8273830</td>\n",
       "<td>0.4020713</td></tr>\n",
       "<tr><td>sepal_len</td>\n",
       "<td>308.5762329</td>\n",
       "<td>0.1706819</td>\n",
       "<td>0.0829438</td></tr>\n",
       "<tr><td>sepal_wid</td>\n",
       "<td>107.9981689</td>\n",
       "<td>0.0597367</td>\n",
       "<td>0.0290294</td></tr></table></div>"
      ],
      "text/plain": [
       "variable    relative_importance    scaled_importance    percentage\n",
       "----------  ---------------------  -------------------  ------------\n",
       "petal_len   1807.9                 1                    0.485955\n",
       "petal_wid   1495.83                0.827383             0.402071\n",
       "sepal_len   308.576                0.170682             0.0829438\n",
       "sepal_wid   107.998                0.0597367            0.0290294"
      ]
     },
     "metadata": {},
     "output_type": "display_data"
    },
    {
     "data": {
      "text/plain": []
     },
     "execution_count": 9,
     "metadata": {},
     "output_type": "execute_result"
    }
   ],
   "source": [
    "mRF"
   ]
  },
  {
   "cell_type": "code",
   "execution_count": 10,
   "metadata": {},
   "outputs": [
    {
     "name": "stdout",
     "output_type": "stream",
     "text": [
      "\n",
      "ModelMetricsMultinomial: drf\n",
      "** Reported on test data. **\n",
      "\n",
      "MSE: 0.001105789482452096\n",
      "RMSE: 0.03325341309478015\n",
      "LogLoss: 0.015494306329762198\n",
      "Mean Per-Class Error: 0.0\n",
      "Confusion Matrix: Row labels: Actual class; Column labels: Predicted class\n",
      "\n"
     ]
    },
    {
     "data": {
      "text/html": [
       "<div style=\"overflow:auto\"><table style=\"width:50%\"><tr><td><b>Iris-setosa</b></td>\n",
       "<td><b>Iris-versicolor</b></td>\n",
       "<td><b>Iris-virginica</b></td>\n",
       "<td><b>Error</b></td>\n",
       "<td><b>Rate</b></td></tr>\n",
       "<tr><td>7.0</td>\n",
       "<td>0.0</td>\n",
       "<td>0.0</td>\n",
       "<td>0.0</td>\n",
       "<td>0 / 7</td></tr>\n",
       "<tr><td>0.0</td>\n",
       "<td>2.0</td>\n",
       "<td>0.0</td>\n",
       "<td>0.0</td>\n",
       "<td>0 / 2</td></tr>\n",
       "<tr><td>0.0</td>\n",
       "<td>0.0</td>\n",
       "<td>11.0</td>\n",
       "<td>0.0</td>\n",
       "<td>0 / 11</td></tr>\n",
       "<tr><td>7.0</td>\n",
       "<td>2.0</td>\n",
       "<td>11.0</td>\n",
       "<td>0.0</td>\n",
       "<td>0 / 20</td></tr></table></div>"
      ],
      "text/plain": [
       "Iris-setosa    Iris-versicolor    Iris-virginica    Error    Rate\n",
       "-------------  -----------------  ----------------  -------  ------\n",
       "7              0                  0                 0        0 / 7\n",
       "0              2                  0                 0        0 / 2\n",
       "0              0                  11                0        0 / 11\n",
       "7              2                  11                0        0 / 20"
      ]
     },
     "metadata": {},
     "output_type": "display_data"
    },
    {
     "name": "stdout",
     "output_type": "stream",
     "text": [
      "Top-3 Hit Ratios: \n"
     ]
    },
    {
     "data": {
      "text/html": [
       "<div style=\"overflow:auto\"><table style=\"width:50%\"><tr><td><b>k</b></td>\n",
       "<td><b>hit_ratio</b></td></tr>\n",
       "<tr><td>1</td>\n",
       "<td>1.0</td></tr>\n",
       "<tr><td>2</td>\n",
       "<td>1.0</td></tr>\n",
       "<tr><td>3</td>\n",
       "<td>1.0</td></tr></table></div>"
      ],
      "text/plain": [
       "k    hit_ratio\n",
       "---  -----------\n",
       "1    1\n",
       "2    1\n",
       "3    1"
      ]
     },
     "metadata": {},
     "output_type": "display_data"
    },
    {
     "data": {
      "text/plain": []
     },
     "execution_count": 10,
     "metadata": {},
     "output_type": "execute_result"
    }
   ],
   "source": [
    "mRF.model_performance(test)"
   ]
  },
  {
   "cell_type": "code",
   "execution_count": null,
   "metadata": {},
   "outputs": [],
   "source": []
  }
 ],
 "metadata": {
  "kernelspec": {
   "display_name": "Python 3",
   "language": "python",
   "name": "python3"
  },
  "language_info": {
   "codemirror_mode": {
    "name": "ipython",
    "version": 3
   },
   "file_extension": ".py",
   "mimetype": "text/x-python",
   "name": "python",
   "nbconvert_exporter": "python",
   "pygments_lexer": "ipython3",
   "version": "3.6.4"
  }
 },
 "nbformat": 4,
 "nbformat_minor": 2
}
