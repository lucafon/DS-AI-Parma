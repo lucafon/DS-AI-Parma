{
 "cells": [
  {
   "cell_type": "code",
   "execution_count": 1,
   "metadata": {},
   "outputs": [
    {
     "name": "stderr",
     "output_type": "stream",
     "text": [
      "C:\\ProgramData\\Anaconda3\\lib\\site-packages\\mxnet-1.1.0-py3.6.egg\\mxnet\\optimizer.py:136: UserWarning: WARNING: New optimizer mxnet.optimizer.NAG is overriding existing optimizer mxnet.optimizer.NAG\n",
      "  Optimizer.opt_registry[name].__name__))\n",
      "C:\\ProgramData\\Anaconda3\\lib\\site-packages\\urllib3\\contrib\\pyopenssl.py:46: DeprecationWarning: OpenSSL.rand is deprecated - you should use os.urandom instead\n",
      "  import OpenSSL.SSL\n"
     ]
    }
   ],
   "source": [
    "import numpy as np\n",
    "import pandas as pd\n",
    "import mxnet as mx \n",
    "import matplotlib.pyplot as plt\n",
    "import plotly.plotly as py\n",
    "import logging\n",
    "\n",
    "logging.basicConfig(level=logging.DEBUG)"
   ]
  },
  {
   "cell_type": "code",
   "execution_count": 2,
   "metadata": {
    "collapsed": true
   },
   "outputs": [],
   "source": [
    "train1=pd.read_csv('C:/Rtemp/DNNtest/train.csv')"
   ]
  },
  {
   "cell_type": "code",
   "execution_count": 39,
   "metadata": {},
   "outputs": [
    {
     "data": {
      "text/plain": [
       "(8400, 785)"
      ]
     },
     "execution_count": 39,
     "metadata": {},
     "output_type": "execute_result"
    }
   ],
   "source": [
    "cv.shape"
   ]
  },
  {
   "cell_type": "code",
   "execution_count": 3,
   "metadata": {
    "collapsed": true
   },
   "outputs": [],
   "source": [
    "train=np.asarray(train1.iloc[0:33600,:])"
   ]
  },
  {
   "cell_type": "code",
   "execution_count": 4,
   "metadata": {
    "collapsed": true
   },
   "outputs": [],
   "source": [
    "cv=np.asarray(train1.iloc[33600:,:])"
   ]
  },
  {
   "cell_type": "code",
   "execution_count": 5,
   "metadata": {
    "collapsed": true
   },
   "outputs": [],
   "source": [
    "trainx=train[:,1:]"
   ]
  },
  {
   "cell_type": "code",
   "execution_count": 41,
   "metadata": {},
   "outputs": [
    {
     "data": {
      "text/plain": [
       "(33600, 784)"
      ]
     },
     "execution_count": 41,
     "metadata": {},
     "output_type": "execute_result"
    }
   ],
   "source": [
    "trainx.shape"
   ]
  },
  {
   "cell_type": "code",
   "execution_count": 6,
   "metadata": {
    "collapsed": true
   },
   "outputs": [],
   "source": [
    "cvx=cv[:,1:]"
   ]
  },
  {
   "cell_type": "code",
   "execution_count": 43,
   "metadata": {},
   "outputs": [
    {
     "data": {
      "text/plain": [
       "(8400, 784)"
      ]
     },
     "execution_count": 43,
     "metadata": {},
     "output_type": "execute_result"
    }
   ],
   "source": [
    "cvx.shape"
   ]
  },
  {
   "cell_type": "code",
   "execution_count": 7,
   "metadata": {
    "collapsed": true
   },
   "outputs": [],
   "source": [
    "trainx=np.reshape(trainx, (trainx.shape[0],1,28,28))/255"
   ]
  },
  {
   "cell_type": "code",
   "execution_count": 8,
   "metadata": {
    "collapsed": true
   },
   "outputs": [],
   "source": [
    "cvx=np.reshape(cvx, (cvx.shape[0],1,28,28))/255"
   ]
  },
  {
   "cell_type": "code",
   "execution_count": 9,
   "metadata": {},
   "outputs": [
    {
     "data": {
      "image/png": "[encoded data removed]",
      "text/plain": [
       "<matplotlib.figure.Figure at 0x15fa87f0>"
      ]
     },
     "metadata": {},
     "output_type": "display_data"
    }
   ],
   "source": [
    "ix=0\n",
    "img=np.asarray(np.matrix(trainx[ix,0,:,:]))\n",
    "plt.imshow(img)\n",
    "#plt.scatter(np.asarray(trainy)[ix,0], np.asarray(trainy)[ix,1], c='r', s=40)\n",
    "plt.show()"
   ]
  },
  {
   "cell_type": "code",
   "execution_count": 10,
   "metadata": {
    "collapsed": true
   },
   "outputs": [],
   "source": [
    "trainy=np.asarray(train[:,0])"
   ]
  },
  {
   "cell_type": "code",
   "execution_count": 11,
   "metadata": {
    "collapsed": true
   },
   "outputs": [],
   "source": [
    "cvy=np.asarray(cv[:,0])"
   ]
  },
  {
   "cell_type": "code",
   "execution_count": 12,
   "metadata": {},
   "outputs": [
    {
     "data": {
      "text/plain": [
       "(33600,)"
      ]
     },
     "execution_count": 12,
     "metadata": {},
     "output_type": "execute_result"
    }
   ],
   "source": [
    "#trainy.dtype\n",
    "trainy.shape"
   ]
  },
  {
   "cell_type": "code",
   "execution_count": null,
   "metadata": {
    "collapsed": true
   },
   "outputs": [],
   "source": [
    "FULLY CONNECTED NEURAL NETWORK"
   ]
  },
  {
   "cell_type": "code",
   "execution_count": 13,
   "metadata": {
    "collapsed": true
   },
   "outputs": [],
   "source": [
    "data = mx.sym.var('data')\n",
    "Y= mx.symbol.Variable('softmax_label') \n",
    "\n",
    "# first fullc layer\n",
    "flatten = mx.sym.flatten(data=data)\n",
    "fc1 = mx.symbol.FullyConnected(data=flatten, num_hidden=500)\n",
    "nlin3 = mx.sym.Activation(data=fc1, act_type=\"relu\") \n",
    "\n",
    "# output fullc\n",
    "fc3 = mx.sym.FullyConnected(data=nlin3, num_hidden=10)\n",
    "# Softmax output\n",
    "SNN = mx.symbol.SoftmaxOutput(data=fc3, label=Y, name=\"SNN\") \n"
   ]
  },
  {
   "cell_type": "code",
   "execution_count": 14,
   "metadata": {
    "collapsed": true
   },
   "outputs": [],
   "source": [
    "SNN_model = mx.mod.Module(symbol=SNN, label_names =['softmax_label'], context=mx.cpu())"
   ]
  },
  {
   "cell_type": "code",
   "execution_count": 15,
   "metadata": {},
   "outputs": [
    {
     "name": "stderr",
     "output_type": "stream",
     "text": [
      "INFO:root:Epoch[0] Batch [200]\tSpeed: 6307.94 samples/sec\taccuracy=0.793980\n",
      "INFO:root:Epoch[0] Train-accuracy=0.922519\n",
      "INFO:root:Epoch[0] Time cost=6.003\n",
      "INFO:root:Epoch[0] Validation-accuracy=0.936310\n",
      "INFO:root:Epoch[1] Batch [200]\tSpeed: 7399.99 samples/sec\taccuracy=0.946070\n",
      "INFO:root:Epoch[1] Train-accuracy=0.953481\n",
      "INFO:root:Epoch[1] Time cost=4.904\n",
      "INFO:root:Epoch[1] Validation-accuracy=0.956190\n",
      "INFO:root:Epoch[2] Batch [200]\tSpeed: 7262.68 samples/sec\taccuracy=0.965473\n",
      "INFO:root:Epoch[2] Train-accuracy=0.967926\n",
      "INFO:root:Epoch[2] Time cost=4.645\n",
      "INFO:root:Epoch[2] Validation-accuracy=0.963690\n",
      "INFO:root:Epoch[3] Batch [200]\tSpeed: 6816.39 samples/sec\taccuracy=0.975920\n",
      "INFO:root:Epoch[3] Train-accuracy=0.975704\n",
      "INFO:root:Epoch[3] Time cost=4.779\n",
      "INFO:root:Epoch[3] Validation-accuracy=0.965833\n",
      "INFO:root:Epoch[4] Batch [200]\tSpeed: 7766.07 samples/sec\taccuracy=0.982537\n",
      "INFO:root:Epoch[4] Train-accuracy=0.981481\n",
      "INFO:root:Epoch[4] Time cost=4.409\n",
      "INFO:root:Epoch[4] Validation-accuracy=0.968690\n",
      "INFO:root:Epoch[5] Batch [200]\tSpeed: 5912.25 samples/sec\taccuracy=0.987363\n",
      "INFO:root:Epoch[5] Train-accuracy=0.987556\n",
      "INFO:root:Epoch[5] Time cost=5.204\n",
      "INFO:root:Epoch[5] Validation-accuracy=0.970238\n",
      "INFO:root:Epoch[6] Batch [200]\tSpeed: 7062.63 samples/sec\taccuracy=0.990249\n",
      "INFO:root:Epoch[6] Train-accuracy=0.991111\n",
      "INFO:root:Epoch[6] Time cost=4.835\n",
      "INFO:root:Epoch[6] Validation-accuracy=0.970714\n",
      "INFO:root:Epoch[7] Batch [200]\tSpeed: 7334.05 samples/sec\taccuracy=0.992388\n",
      "INFO:root:Epoch[7] Train-accuracy=0.993778\n",
      "INFO:root:Epoch[7] Time cost=5.110\n",
      "INFO:root:Epoch[7] Validation-accuracy=0.971548\n",
      "INFO:root:Epoch[8] Batch [200]\tSpeed: 6870.69 samples/sec\taccuracy=0.994030\n",
      "INFO:root:Epoch[8] Train-accuracy=0.995630\n",
      "INFO:root:Epoch[8] Time cost=4.992\n",
      "INFO:root:Epoch[8] Validation-accuracy=0.972143\n",
      "INFO:root:Epoch[9] Batch [200]\tSpeed: 6671.55 samples/sec\taccuracy=0.996070\n",
      "INFO:root:Epoch[9] Train-accuracy=0.996444\n",
      "INFO:root:Epoch[9] Time cost=4.891\n",
      "INFO:root:Epoch[9] Validation-accuracy=0.972738\n",
      "INFO:root:Epoch[10] Batch [200]\tSpeed: 6878.03 samples/sec\taccuracy=0.997413\n",
      "INFO:root:Epoch[10] Train-accuracy=0.997407\n",
      "INFO:root:Epoch[10] Time cost=5.287\n",
      "INFO:root:Epoch[10] Validation-accuracy=0.973452\n",
      "INFO:root:Epoch[11] Batch [200]\tSpeed: 7131.12 samples/sec\taccuracy=0.997910\n",
      "INFO:root:Epoch[11] Train-accuracy=0.998296\n",
      "INFO:root:Epoch[11] Time cost=4.650\n",
      "INFO:root:Epoch[11] Validation-accuracy=0.974286\n",
      "INFO:root:Epoch[12] Batch [200]\tSpeed: 7587.23 samples/sec\taccuracy=0.998507\n",
      "INFO:root:Epoch[12] Train-accuracy=0.998889\n",
      "INFO:root:Epoch[12] Time cost=4.422\n",
      "INFO:root:Epoch[12] Validation-accuracy=0.975357\n",
      "INFO:root:Epoch[13] Batch [200]\tSpeed: 7549.43 samples/sec\taccuracy=0.999204\n",
      "INFO:root:Epoch[13] Train-accuracy=0.999185\n",
      "INFO:root:Epoch[13] Time cost=4.434\n",
      "INFO:root:Epoch[13] Validation-accuracy=0.975952\n",
      "INFO:root:Epoch[14] Batch [200]\tSpeed: 7917.33 samples/sec\taccuracy=0.999502\n",
      "INFO:root:Epoch[14] Train-accuracy=0.999556\n",
      "INFO:root:Epoch[14] Time cost=4.334\n",
      "INFO:root:Epoch[14] Validation-accuracy=0.975714\n"
     ]
    }
   ],
   "source": [
    "batch_size = 100\n",
    "train_iter = mx.io.NDArrayIter(trainx, trainy, batch_size, shuffle=True)\n",
    "val_iter = mx.io.NDArrayIter(cvx, cvy, batch_size)\n",
    "\n",
    "SNN_model.fit(train_iter,  # train data\n",
    "              eval_data=val_iter,  # validation data\n",
    "                optimizer='sgd',\n",
    "                optimizer_params={'learning_rate':0.05, 'momentum': 0.9},\n",
    "                eval_metric='acc', #'acc' or mx.metric.RMSE()\n",
    "                batch_end_callback = mx.callback.Speedometer(batch_size=batch_size, frequent=200),\n",
    "              #batch_end_callback = mx.callback.log_train_metric(2),\n",
    "                num_epoch=15)\n"
   ]
  },
  {
   "cell_type": "code",
   "execution_count": null,
   "metadata": {
    "collapsed": true
   },
   "outputs": [],
   "source": [
    "DEEP FULLY CONNECTED NEURAL NETWORK"
   ]
  },
  {
   "cell_type": "code",
   "execution_count": 25,
   "metadata": {
    "collapsed": true
   },
   "outputs": [],
   "source": [
    "data = mx.sym.var('data')\n",
    "Y= mx.symbol.Variable('softmax_label') \n",
    "\n",
    "# first fullc layer\n",
    "flatten = mx.sym.flatten(data=data)\n",
    "fc1 = mx.symbol.FullyConnected(data=flatten, num_hidden=500)\n",
    "nlin1 = mx.sym.Activation(data=fc1, act_type=\"relu\") \n",
    "\n",
    "# second fullc layer\n",
    "fc2 = mx.symbol.FullyConnected(data=nlin1, num_hidden=500)\n",
    "nlin2 = mx.sym.Activation(data=fc2, act_type=\"relu\") \n",
    "\n",
    "# third fullc layer\n",
    "fc3 = mx.symbol.FullyConnected(data=nlin2, num_hidden=500)\n",
    "nlin3 = mx.sym.Activation(data=fc3, act_type=\"relu\") \n",
    "\n",
    "# output fullc\n",
    "fc4 = mx.sym.FullyConnected(data=nlin3, num_hidden=10)\n",
    "# Regress output\n",
    "DNN = mx.symbol.SoftmaxOutput(data=fc4, label=Y, name=\"DNN\") "
   ]
  },
  {
   "cell_type": "code",
   "execution_count": 26,
   "metadata": {
    "collapsed": true
   },
   "outputs": [],
   "source": [
    "DNN_model = mx.mod.Module(symbol=DNN, label_names =['softmax_label'], context=mx.cpu())"
   ]
  },
  {
   "cell_type": "code",
   "execution_count": 27,
   "metadata": {},
   "outputs": [
    {
     "name": "stderr",
     "output_type": "stream",
     "text": [
      "INFO:root:Epoch[0] Batch [200]\tSpeed: 2865.04 samples/sec\taccuracy=0.105124\n",
      "INFO:root:Epoch[0] Train-accuracy=0.184296\n",
      "INFO:root:Epoch[0] Time cost=11.542\n",
      "INFO:root:Epoch[0] Validation-accuracy=0.253571\n",
      "INFO:root:Epoch[1] Batch [200]\tSpeed: 2976.50 samples/sec\taccuracy=0.730000\n",
      "INFO:root:Epoch[1] Train-accuracy=0.913333\n",
      "INFO:root:Epoch[1] Time cost=11.411\n",
      "INFO:root:Epoch[1] Validation-accuracy=0.920119\n",
      "INFO:root:Epoch[2] Batch [200]\tSpeed: 2969.34 samples/sec\taccuracy=0.940995\n",
      "INFO:root:Epoch[2] Train-accuracy=0.955556\n",
      "INFO:root:Epoch[2] Time cost=11.425\n",
      "INFO:root:Epoch[2] Validation-accuracy=0.948571\n",
      "INFO:root:Epoch[3] Batch [200]\tSpeed: 2948.02 samples/sec\taccuracy=0.963731\n",
      "INFO:root:Epoch[3] Train-accuracy=0.968519\n",
      "INFO:root:Epoch[3] Time cost=11.514\n",
      "INFO:root:Epoch[3] Validation-accuracy=0.960357\n",
      "INFO:root:Epoch[4] Batch [200]\tSpeed: 2927.57 samples/sec\taccuracy=0.974627\n",
      "INFO:root:Epoch[4] Train-accuracy=0.976519\n",
      "INFO:root:Epoch[4] Time cost=11.666\n",
      "INFO:root:Epoch[4] Validation-accuracy=0.966667\n",
      "INFO:root:Epoch[5] Batch [200]\tSpeed: 2892.93 samples/sec\taccuracy=0.980199\n",
      "INFO:root:Epoch[5] Train-accuracy=0.982000\n",
      "INFO:root:Epoch[5] Time cost=11.640\n",
      "INFO:root:Epoch[5] Validation-accuracy=0.966071\n",
      "INFO:root:Epoch[6] Batch [200]\tSpeed: 2907.90 samples/sec\taccuracy=0.985970\n",
      "INFO:root:Epoch[6] Train-accuracy=0.982370\n",
      "INFO:root:Epoch[6] Time cost=11.940\n",
      "INFO:root:Epoch[6] Validation-accuracy=0.962024\n",
      "INFO:root:Epoch[7] Batch [200]\tSpeed: 2908.15 samples/sec\taccuracy=0.987512\n",
      "INFO:root:Epoch[7] Train-accuracy=0.985185\n",
      "INFO:root:Epoch[7] Time cost=11.699\n",
      "INFO:root:Epoch[7] Validation-accuracy=0.962500\n",
      "INFO:root:Epoch[8] Batch [200]\tSpeed: 2915.57 samples/sec\taccuracy=0.988109\n",
      "INFO:root:Epoch[8] Train-accuracy=0.987185\n",
      "INFO:root:Epoch[8] Time cost=11.673\n",
      "INFO:root:Epoch[8] Validation-accuracy=0.972024\n",
      "INFO:root:Epoch[9] Batch [200]\tSpeed: 2677.00 samples/sec\taccuracy=0.990746\n",
      "INFO:root:Epoch[9] Train-accuracy=0.991704\n",
      "INFO:root:Epoch[9] Time cost=12.317\n",
      "INFO:root:Epoch[9] Validation-accuracy=0.972857\n",
      "INFO:root:Epoch[10] Batch [200]\tSpeed: 2396.06 samples/sec\taccuracy=0.993682\n",
      "INFO:root:Epoch[10] Train-accuracy=0.994889\n",
      "INFO:root:Epoch[10] Time cost=14.101\n",
      "INFO:root:Epoch[10] Validation-accuracy=0.970714\n",
      "INFO:root:Epoch[11] Batch [200]\tSpeed: 2550.94 samples/sec\taccuracy=0.995373\n",
      "INFO:root:Epoch[11] Train-accuracy=0.993556\n",
      "INFO:root:Epoch[11] Time cost=12.594\n",
      "INFO:root:Epoch[11] Validation-accuracy=0.974643\n",
      "INFO:root:Epoch[12] Batch [200]\tSpeed: 2686.68 samples/sec\taccuracy=0.993234\n",
      "INFO:root:Epoch[12] Train-accuracy=0.994000\n",
      "INFO:root:Epoch[12] Time cost=12.822\n",
      "INFO:root:Epoch[12] Validation-accuracy=0.969524\n",
      "INFO:root:Epoch[13] Batch [200]\tSpeed: 2900.27 samples/sec\taccuracy=0.995672\n",
      "INFO:root:Epoch[13] Train-accuracy=0.995481\n",
      "INFO:root:Epoch[13] Time cost=11.668\n",
      "INFO:root:Epoch[13] Validation-accuracy=0.971786\n",
      "INFO:root:Epoch[14] Batch [200]\tSpeed: 2871.41 samples/sec\taccuracy=0.995224\n",
      "INFO:root:Epoch[14] Train-accuracy=0.990074\n",
      "INFO:root:Epoch[14] Time cost=11.781\n",
      "INFO:root:Epoch[14] Validation-accuracy=0.972143\n"
     ]
    }
   ],
   "source": [
    "batch_size = 100\n",
    "train_iter = mx.io.NDArrayIter(trainx, trainy, batch_size, shuffle=True)\n",
    "val_iter = mx.io.NDArrayIter(cvx, cvy, batch_size)\n",
    "\n",
    "DNN_model.fit(train_iter,  # train data\n",
    "              eval_data=val_iter,  # validation data\n",
    "                optimizer='sgd',\n",
    "                optimizer_params={'learning_rate':0.05, 'momentum': 0.9},\n",
    "                eval_metric='acc', #'acc' or mx.metric.RMSE()\n",
    "                batch_end_callback = mx.callback.Speedometer(batch_size=batch_size, frequent=200),\n",
    "              #batch_end_callback = mx.callback.log_train_metric(2),\n",
    "                num_epoch=15)\n"
   ]
  },
  {
   "cell_type": "code",
   "execution_count": null,
   "metadata": {
    "collapsed": true
   },
   "outputs": [],
   "source": [
    "CONVOLUTIONAL NEURAL NETWORK"
   ]
  },
  {
   "cell_type": "code",
   "execution_count": 28,
   "metadata": {
    "collapsed": true
   },
   "outputs": [],
   "source": [
    "data = mx.sym.var('data')\n",
    "Y= mx.symbol.Variable('softmax_label') \n",
    "\n",
    "# first conv layer\n",
    "conv1 = mx.sym.Convolution(data=data, kernel=(5,5), num_filter=20)\n",
    "nlin1 = mx.sym.Activation(data=conv1, act_type=\"relu\")\n",
    "pool1 = mx.sym.Pooling(data=nlin1, pool_type=\"max\", kernel=(2,2), stride=(2,2))\n",
    "drop1 = mx.symbol.Dropout(data=pool1,p=0.5)\n",
    "# second conv layer\n",
    "conv2 = mx.sym.Convolution(data=drop1, kernel=(5,5), num_filter=40)\n",
    "nlin2 = mx.sym.Activation(data=conv2, act_type=\"relu\")\n",
    "pool2 = mx.sym.Pooling(data=nlin2, pool_type=\"max\", kernel=(2,2), stride=(2,2))\n",
    "drop2 = mx.symbol.Dropout(data=pool2,p=0.5)\n",
    "# first fullc layer\n",
    "flatten = mx.sym.flatten(data=drop2)\n",
    "fc1 = mx.symbol.FullyConnected(data=flatten, num_hidden=500)\n",
    "nlin3 = mx.sym.Activation(data=fc1, act_type=\"relu\")\n",
    "\n",
    "# output fullc\n",
    "fc2 = mx.sym.FullyConnected(data=nlin3, num_hidden=10)\n",
    "# Regress output\n",
    "CNN = mx.symbol.SoftmaxOutput(data=fc2, label=Y,name=\"CCN\")"
   ]
  },
  {
   "cell_type": "code",
   "execution_count": 29,
   "metadata": {
    "collapsed": true
   },
   "outputs": [],
   "source": [
    "CNN_model = mx.mod.Module(symbol=CNN, label_names =['softmax_label'], context=mx.cpu())"
   ]
  },
  {
   "cell_type": "code",
   "execution_count": 32,
   "metadata": {},
   "outputs": [
    {
     "name": "stderr",
     "output_type": "stream",
     "text": [
      "INFO:root:Epoch[0] Batch [200]\tSpeed: 490.66 samples/sec\taccuracy=0.108408\n",
      "INFO:root:Epoch[0] Train-accuracy=0.384593\n",
      "INFO:root:Epoch[0] Time cost=65.863\n",
      "INFO:root:Epoch[0] Validation-accuracy=0.895833\n",
      "INFO:root:Epoch[1] Batch [200]\tSpeed: 552.99 samples/sec\taccuracy=0.907114\n",
      "INFO:root:Epoch[1] Train-accuracy=0.942444\n",
      "INFO:root:Epoch[1] Time cost=60.782\n",
      "INFO:root:Epoch[1] Validation-accuracy=0.973929\n",
      "INFO:root:Epoch[2] Batch [200]\tSpeed: 550.81 samples/sec\taccuracy=0.954378\n",
      "INFO:root:Epoch[2] Train-accuracy=0.960370\n",
      "INFO:root:Epoch[2] Time cost=61.021\n",
      "INFO:root:Epoch[2] Validation-accuracy=0.981429\n",
      "INFO:root:Epoch[3] Batch [200]\tSpeed: 546.97 samples/sec\taccuracy=0.964478\n",
      "INFO:root:Epoch[3] Train-accuracy=0.964593\n",
      "INFO:root:Epoch[3] Time cost=60.928\n",
      "INFO:root:Epoch[3] Validation-accuracy=0.986429\n",
      "INFO:root:Epoch[4] Batch [200]\tSpeed: 556.53 samples/sec\taccuracy=0.967114\n",
      "INFO:root:Epoch[4] Train-accuracy=0.969852\n",
      "INFO:root:Epoch[4] Time cost=61.594\n",
      "INFO:root:Epoch[4] Validation-accuracy=0.987143\n",
      "INFO:root:Epoch[5] Batch [200]\tSpeed: 542.78 samples/sec\taccuracy=0.973383\n",
      "INFO:root:Epoch[5] Train-accuracy=0.972519\n",
      "INFO:root:Epoch[5] Time cost=64.236\n",
      "INFO:root:Epoch[5] Validation-accuracy=0.989167\n",
      "INFO:root:Epoch[6] Batch [200]\tSpeed: 547.28 samples/sec\taccuracy=0.974726\n",
      "INFO:root:Epoch[6] Train-accuracy=0.972741\n",
      "INFO:root:Epoch[6] Time cost=65.976\n",
      "INFO:root:Epoch[6] Validation-accuracy=0.986667\n",
      "INFO:root:Epoch[7] Batch [200]\tSpeed: 527.26 samples/sec\taccuracy=0.976716\n",
      "INFO:root:Epoch[7] Train-accuracy=0.974963\n",
      "INFO:root:Epoch[7] Time cost=63.018\n",
      "INFO:root:Epoch[7] Validation-accuracy=0.986667\n",
      "INFO:root:Epoch[8] Batch [200]\tSpeed: 549.27 samples/sec\taccuracy=0.976219\n",
      "INFO:root:Epoch[8] Train-accuracy=0.976815\n",
      "INFO:root:Epoch[8] Time cost=61.790\n",
      "INFO:root:Epoch[8] Validation-accuracy=0.989881\n",
      "INFO:root:Epoch[9] Batch [200]\tSpeed: 550.18 samples/sec\taccuracy=0.980348\n",
      "INFO:root:Epoch[9] Train-accuracy=0.978815\n",
      "INFO:root:Epoch[9] Time cost=61.776\n",
      "INFO:root:Epoch[9] Validation-accuracy=0.988810\n",
      "INFO:root:Epoch[10] Batch [200]\tSpeed: 552.33 samples/sec\taccuracy=0.980050\n",
      "INFO:root:Epoch[10] Train-accuracy=0.978963\n",
      "INFO:root:Epoch[10] Time cost=60.788\n",
      "INFO:root:Epoch[10] Validation-accuracy=0.990000\n",
      "INFO:root:Epoch[11] Batch [200]\tSpeed: 554.27 samples/sec\taccuracy=0.980050\n",
      "INFO:root:Epoch[11] Train-accuracy=0.980889\n",
      "INFO:root:Epoch[11] Time cost=61.006\n",
      "INFO:root:Epoch[11] Validation-accuracy=0.991071\n",
      "INFO:root:Epoch[12] Batch [200]\tSpeed: 543.14 samples/sec\taccuracy=0.980995\n",
      "INFO:root:Epoch[12] Train-accuracy=0.979259\n",
      "INFO:root:Epoch[12] Time cost=61.309\n",
      "INFO:root:Epoch[12] Validation-accuracy=0.990238\n",
      "INFO:root:Epoch[13] Batch [200]\tSpeed: 535.82 samples/sec\taccuracy=0.981940\n",
      "INFO:root:Epoch[13] Train-accuracy=0.980519\n",
      "INFO:root:Epoch[13] Time cost=62.916\n",
      "INFO:root:Epoch[13] Validation-accuracy=0.990357\n",
      "INFO:root:Epoch[14] Batch [200]\tSpeed: 527.86 samples/sec\taccuracy=0.981343\n",
      "INFO:root:Epoch[14] Train-accuracy=0.980444\n",
      "INFO:root:Epoch[14] Time cost=63.453\n",
      "INFO:root:Epoch[14] Validation-accuracy=0.990000\n"
     ]
    }
   ],
   "source": [
    "batch_size = 100\n",
    "train_iter = mx.io.NDArrayIter(trainx, trainy, batch_size, shuffle=True)\n",
    "val_iter = mx.io.NDArrayIter(cvx, cvy, batch_size)\n",
    "\n",
    "CNN_model.fit(train_iter,  # train data\n",
    "              eval_data=val_iter,  # validation data\n",
    "                optimizer='sgd',\n",
    "                optimizer_params={'learning_rate':0.05, 'momentum': 0.9},\n",
    "                eval_metric='acc', #'acc' or mx.metric.RMSE()\n",
    "                batch_end_callback = mx.callback.Speedometer(batch_size=batch_size, frequent=200),\n",
    "              #batch_end_callback = mx.callback.log_train_metric(2),\n",
    "                num_epoch=15)\n"
   ]
  }
 ],
 "metadata": {
  "kernelspec": {
   "display_name": "Python 3",
   "language": "python",
   "name": "python3"
  },
  "language_info": {
   "codemirror_mode": {
    "name": "ipython",
    "version": 3
   },
   "file_extension": ".py",
   "mimetype": "text/x-python",
   "name": "python",
   "nbconvert_exporter": "python",
   "pygments_lexer": "ipython3",
   "version": "3.6.3"
  }
 },
 "nbformat": 4,
 "nbformat_minor": 2
}
