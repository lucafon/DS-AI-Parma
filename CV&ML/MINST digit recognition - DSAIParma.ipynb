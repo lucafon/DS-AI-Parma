{
 "cells": [
  {
   "cell_type": "code",
   "execution_count": 1,
   "metadata": {},
   "outputs": [
    {
     "name": "stderr",
     "output_type": "stream",
     "text": [
      "C:\\ProgramData\\Anaconda3\\lib\\site-packages\\mxnet-1.1.0-py3.6.egg\\mxnet\\optimizer.py:136: UserWarning: WARNING: New optimizer mxnet.optimizer.NAG is overriding existing optimizer mxnet.optimizer.NAG\n",
      "  Optimizer.opt_registry[name].__name__))\n",
      "C:\\ProgramData\\Anaconda3\\lib\\site-packages\\urllib3\\contrib\\pyopenssl.py:46: DeprecationWarning: OpenSSL.rand is deprecated - you should use os.urandom instead\n",
      "  import OpenSSL.SSL\n"
     ]
    }
   ],
   "source": [
    "import numpy as np\n",
    "import pandas as pd\n",
    "import mxnet as mx \n",
    "import matplotlib.pyplot as plt\n",
    "import plotly.plotly as py\n",
    "import logging\n",
    "\n",
    "logging.basicConfig(level=logging.DEBUG)"
   ]
  },
  {
   "cell_type": "code",
   "execution_count": 2,
   "metadata": {
    "collapsed": true
   },
   "outputs": [],
   "source": [
    "train1=pd.read_csv('C:/Rtemp/DNNtest/train.csv')"
   ]
  },
  {
   "cell_type": "code",
   "execution_count": 7,
   "metadata": {},
   "outputs": [
    {
     "data": {
      "text/plain": [
       "(42000, 785)"
      ]
     },
     "execution_count": 7,
     "metadata": {},
     "output_type": "execute_result"
    }
   ],
   "source": [
    "train1.shape"
   ]
  },
  {
   "cell_type": "code",
   "execution_count": 21,
   "metadata": {},
   "outputs": [
    {
     "data": {
      "text/html": [
       "<div>\n",
       "<style>\n",
       "    .dataframe thead tr:only-child th {\n",
       "        text-align: right;\n",
       "    }\n",
       "\n",
       "    .dataframe thead th {\n",
       "        text-align: left;\n",
       "    }\n",
       "\n",
       "    .dataframe tbody tr th {\n",
       "        vertical-align: top;\n",
       "    }\n",
       "</style>\n",
       "<table border=\"1\" class=\"dataframe\">\n",
       "  <thead>\n",
       "    <tr style=\"text-align: right;\">\n",
       "      <th></th>\n",
       "      <th>label</th>\n",
       "      <th>pixel0</th>\n",
       "      <th>pixel1</th>\n",
       "      <th>pixel2</th>\n",
       "      <th>pixel3</th>\n",
       "      <th>pixel4</th>\n",
       "      <th>pixel5</th>\n",
       "      <th>pixel6</th>\n",
       "      <th>pixel7</th>\n",
       "      <th>pixel8</th>\n",
       "      <th>pixel9</th>\n",
       "      <th>pixel10</th>\n",
       "      <th>pixel11</th>\n",
       "      <th>pixel12</th>\n",
       "      <th>pixel13</th>\n",
       "    </tr>\n",
       "  </thead>\n",
       "  <tbody>\n",
       "    <tr>\n",
       "      <th>0</th>\n",
       "      <td>1</td>\n",
       "      <td>0</td>\n",
       "      <td>0</td>\n",
       "      <td>0</td>\n",
       "      <td>0</td>\n",
       "      <td>0</td>\n",
       "      <td>0</td>\n",
       "      <td>0</td>\n",
       "      <td>0</td>\n",
       "      <td>0</td>\n",
       "      <td>0</td>\n",
       "      <td>0</td>\n",
       "      <td>0</td>\n",
       "      <td>0</td>\n",
       "      <td>0</td>\n",
       "    </tr>\n",
       "    <tr>\n",
       "      <th>1</th>\n",
       "      <td>0</td>\n",
       "      <td>0</td>\n",
       "      <td>0</td>\n",
       "      <td>0</td>\n",
       "      <td>0</td>\n",
       "      <td>0</td>\n",
       "      <td>0</td>\n",
       "      <td>0</td>\n",
       "      <td>0</td>\n",
       "      <td>0</td>\n",
       "      <td>0</td>\n",
       "      <td>0</td>\n",
       "      <td>0</td>\n",
       "      <td>0</td>\n",
       "      <td>0</td>\n",
       "    </tr>\n",
       "    <tr>\n",
       "      <th>2</th>\n",
       "      <td>1</td>\n",
       "      <td>0</td>\n",
       "      <td>0</td>\n",
       "      <td>0</td>\n",
       "      <td>0</td>\n",
       "      <td>0</td>\n",
       "      <td>0</td>\n",
       "      <td>0</td>\n",
       "      <td>0</td>\n",
       "      <td>0</td>\n",
       "      <td>0</td>\n",
       "      <td>0</td>\n",
       "      <td>0</td>\n",
       "      <td>0</td>\n",
       "      <td>0</td>\n",
       "    </tr>\n",
       "    <tr>\n",
       "      <th>3</th>\n",
       "      <td>4</td>\n",
       "      <td>0</td>\n",
       "      <td>0</td>\n",
       "      <td>0</td>\n",
       "      <td>0</td>\n",
       "      <td>0</td>\n",
       "      <td>0</td>\n",
       "      <td>0</td>\n",
       "      <td>0</td>\n",
       "      <td>0</td>\n",
       "      <td>0</td>\n",
       "      <td>0</td>\n",
       "      <td>0</td>\n",
       "      <td>0</td>\n",
       "      <td>0</td>\n",
       "    </tr>\n",
       "  </tbody>\n",
       "</table>\n",
       "</div>"
      ],
      "text/plain": [
       "   label  pixel0  pixel1  pixel2  pixel3  pixel4  pixel5  pixel6  pixel7  \\\n",
       "0      1       0       0       0       0       0       0       0       0   \n",
       "1      0       0       0       0       0       0       0       0       0   \n",
       "2      1       0       0       0       0       0       0       0       0   \n",
       "3      4       0       0       0       0       0       0       0       0   \n",
       "\n",
       "   pixel8  pixel9  pixel10  pixel11  pixel12  pixel13  \n",
       "0       0       0        0        0        0        0  \n",
       "1       0       0        0        0        0        0  \n",
       "2       0       0        0        0        0        0  \n",
       "3       0       0        0        0        0        0  "
      ]
     },
     "execution_count": 21,
     "metadata": {},
     "output_type": "execute_result"
    }
   ],
   "source": [
    "train1.iloc[0:4, 0:15]"
   ]
  },
  {
   "cell_type": "code",
   "execution_count": 9,
   "metadata": {
    "collapsed": true
   },
   "outputs": [],
   "source": [
    "train=np.asarray(train1.iloc[0:33600,:])"
   ]
  },
  {
   "cell_type": "code",
   "execution_count": 10,
   "metadata": {
    "collapsed": true
   },
   "outputs": [],
   "source": [
    "cv=np.asarray(train1.iloc[33600:,:])"
   ]
  },
  {
   "cell_type": "code",
   "execution_count": 11,
   "metadata": {
    "collapsed": true
   },
   "outputs": [],
   "source": [
    "trainx=train[:,1:]"
   ]
  },
  {
   "cell_type": "code",
   "execution_count": 12,
   "metadata": {},
   "outputs": [
    {
     "data": {
      "text/plain": [
       "(33600, 784)"
      ]
     },
     "execution_count": 12,
     "metadata": {},
     "output_type": "execute_result"
    }
   ],
   "source": [
    "trainx.shape"
   ]
  },
  {
   "cell_type": "code",
   "execution_count": 13,
   "metadata": {
    "collapsed": true
   },
   "outputs": [],
   "source": [
    "cvx=cv[:,1:]"
   ]
  },
  {
   "cell_type": "code",
   "execution_count": 14,
   "metadata": {},
   "outputs": [
    {
     "data": {
      "text/plain": [
       "(8400, 784)"
      ]
     },
     "execution_count": 14,
     "metadata": {},
     "output_type": "execute_result"
    }
   ],
   "source": [
    "cvx.shape"
   ]
  },
  {
   "cell_type": "code",
   "execution_count": 15,
   "metadata": {
    "collapsed": true
   },
   "outputs": [],
   "source": [
    "trainx=np.reshape(trainx, (trainx.shape[0],1,28,28))/255"
   ]
  },
  {
   "cell_type": "code",
   "execution_count": 16,
   "metadata": {
    "collapsed": true
   },
   "outputs": [],
   "source": [
    "cvx=np.reshape(cvx, (cvx.shape[0],1,28,28))/255"
   ]
  },
  {
   "cell_type": "code",
   "execution_count": 20,
   "metadata": {},
   "outputs": [
    {
     "data": {
      "image/png": "[encoded data removed]",
      "text/plain": [
       "<matplotlib.figure.Figure at 0x163ca438>"
      ]
     },
     "metadata": {},
     "output_type": "display_data"
    }
   ],
   "source": [
    "ix=3\n",
    "img=np.asarray(np.matrix(trainx[ix,0,:,:]))\n",
    "plt.imshow(img, cmap='Greys_r')\n",
    "plt.show()"
   ]
  },
  {
   "cell_type": "code",
   "execution_count": 32,
   "metadata": {
    "collapsed": true
   },
   "outputs": [],
   "source": [
    "trainy=np.asarray(train[:,0])"
   ]
  },
  {
   "cell_type": "code",
   "execution_count": 33,
   "metadata": {
    "collapsed": true
   },
   "outputs": [],
   "source": [
    "cvy=np.asarray(cv[:,0])"
   ]
  },
  {
   "cell_type": "code",
   "execution_count": 34,
   "metadata": {},
   "outputs": [
    {
     "data": {
      "text/plain": [
       "(33600,)"
      ]
     },
     "execution_count": 34,
     "metadata": {},
     "output_type": "execute_result"
    }
   ],
   "source": [
    "trainy.shape"
   ]
  },
  {
   "cell_type": "markdown",
   "metadata": {
    "collapsed": true
   },
   "source": [
    "FULLY CONNECTED NEURAL NETWORK\n",
    "==========================="
   ]
  },
  {
   "cell_type": "code",
   "execution_count": 35,
   "metadata": {
    "collapsed": true
   },
   "outputs": [],
   "source": [
    "data = mx.sym.var('data')\n",
    "Y= mx.symbol.Variable('softmax_label') \n",
    "\n",
    "# first fullc layer\n",
    "flatten = mx.sym.flatten(data=data)\n",
    "fc1 = mx.symbol.FullyConnected(data=flatten, num_hidden=500)\n",
    "nlin3 = mx.sym.Activation(data=fc1, act_type=\"relu\") \n",
    "\n",
    "# output fullc\n",
    "fc3 = mx.sym.FullyConnected(data=nlin3, num_hidden=10)\n",
    "# Softmax output\n",
    "SNN = mx.symbol.SoftmaxOutput(data=fc3, label=Y, name=\"SNN\") \n"
   ]
  },
  {
   "cell_type": "code",
   "execution_count": 36,
   "metadata": {
    "collapsed": true
   },
   "outputs": [],
   "source": [
    "SNN_model = mx.mod.Module(symbol=SNN, label_names =['softmax_label'], context=mx.cpu())"
   ]
  },
  {
   "cell_type": "code",
   "execution_count": 37,
   "metadata": {},
   "outputs": [
    {
     "name": "stderr",
     "output_type": "stream",
     "text": [
      "INFO:root:Epoch[0] Batch [200]\tSpeed: 9411.71 samples/sec\taccuracy=0.800398\n",
      "INFO:root:Epoch[0] Train-accuracy=0.918593\n",
      "INFO:root:Epoch[0] Time cost=3.722\n",
      "INFO:root:Epoch[0] Validation-accuracy=0.932738\n",
      "INFO:root:Epoch[1] Batch [200]\tSpeed: 9323.89 samples/sec\taccuracy=0.942886\n",
      "INFO:root:Epoch[1] Train-accuracy=0.952000\n",
      "INFO:root:Epoch[1] Time cost=3.715\n",
      "INFO:root:Epoch[1] Validation-accuracy=0.952381\n",
      "INFO:root:Epoch[2] Batch [200]\tSpeed: 9086.51 samples/sec\taccuracy=0.962985\n",
      "INFO:root:Epoch[2] Train-accuracy=0.966593\n",
      "INFO:root:Epoch[2] Time cost=3.898\n",
      "INFO:root:Epoch[2] Validation-accuracy=0.963214\n",
      "INFO:root:Epoch[3] Batch [200]\tSpeed: 8688.07 samples/sec\taccuracy=0.973930\n",
      "INFO:root:Epoch[3] Train-accuracy=0.976370\n",
      "INFO:root:Epoch[3] Time cost=4.082\n",
      "INFO:root:Epoch[3] Validation-accuracy=0.966905\n",
      "INFO:root:Epoch[4] Batch [200]\tSpeed: 9367.67 samples/sec\taccuracy=0.980796\n",
      "INFO:root:Epoch[4] Train-accuracy=0.983407\n",
      "INFO:root:Epoch[4] Time cost=3.596\n",
      "INFO:root:Epoch[4] Validation-accuracy=0.968690\n",
      "INFO:root:Epoch[5] Batch [200]\tSpeed: 9250.68 samples/sec\taccuracy=0.984826\n",
      "INFO:root:Epoch[5] Train-accuracy=0.987630\n",
      "INFO:root:Epoch[5] Time cost=3.622\n",
      "INFO:root:Epoch[5] Validation-accuracy=0.970357\n",
      "INFO:root:Epoch[6] Batch [200]\tSpeed: 9285.03 samples/sec\taccuracy=0.988657\n",
      "INFO:root:Epoch[6] Train-accuracy=0.990444\n",
      "INFO:root:Epoch[6] Time cost=3.682\n",
      "INFO:root:Epoch[6] Validation-accuracy=0.971905\n",
      "INFO:root:Epoch[7] Batch [200]\tSpeed: 9004.92 samples/sec\taccuracy=0.991891\n",
      "INFO:root:Epoch[7] Train-accuracy=0.993037\n",
      "INFO:root:Epoch[7] Time cost=3.689\n",
      "INFO:root:Epoch[7] Validation-accuracy=0.974405\n",
      "INFO:root:Epoch[8] Batch [200]\tSpeed: 9157.49 samples/sec\taccuracy=0.994080\n",
      "INFO:root:Epoch[8] Train-accuracy=0.995037\n",
      "INFO:root:Epoch[8] Time cost=3.684\n",
      "INFO:root:Epoch[8] Validation-accuracy=0.975595\n",
      "INFO:root:Epoch[9] Batch [200]\tSpeed: 9199.62 samples/sec\taccuracy=0.996169\n",
      "INFO:root:Epoch[9] Train-accuracy=0.996963\n",
      "INFO:root:Epoch[9] Time cost=3.665\n",
      "INFO:root:Epoch[9] Validation-accuracy=0.976071\n",
      "INFO:root:Epoch[10] Batch [200]\tSpeed: 9191.16 samples/sec\taccuracy=0.997164\n",
      "INFO:root:Epoch[10] Train-accuracy=0.998000\n",
      "INFO:root:Epoch[10] Time cost=3.718\n",
      "INFO:root:Epoch[10] Validation-accuracy=0.977143\n",
      "INFO:root:Epoch[11] Batch [200]\tSpeed: 9216.57 samples/sec\taccuracy=0.997960\n",
      "INFO:root:Epoch[11] Train-accuracy=0.998963\n",
      "INFO:root:Epoch[11] Time cost=3.634\n",
      "INFO:root:Epoch[11] Validation-accuracy=0.977857\n",
      "INFO:root:Epoch[12] Batch [200]\tSpeed: 9297.99 samples/sec\taccuracy=0.998706\n",
      "INFO:root:Epoch[12] Train-accuracy=0.999185\n",
      "INFO:root:Epoch[12] Time cost=3.627\n",
      "INFO:root:Epoch[12] Validation-accuracy=0.977381\n",
      "INFO:root:Epoch[13] Batch [200]\tSpeed: 9237.86 samples/sec\taccuracy=0.999104\n",
      "INFO:root:Epoch[13] Train-accuracy=0.999481\n",
      "INFO:root:Epoch[13] Time cost=3.646\n",
      "INFO:root:Epoch[13] Validation-accuracy=0.976905\n",
      "INFO:root:Epoch[14] Batch [200]\tSpeed: 9237.86 samples/sec\taccuracy=0.999453\n",
      "INFO:root:Epoch[14] Train-accuracy=0.999704\n",
      "INFO:root:Epoch[14] Time cost=3.633\n",
      "INFO:root:Epoch[14] Validation-accuracy=0.977738\n"
     ]
    }
   ],
   "source": [
    "batch_size = 100\n",
    "train_iter = mx.io.NDArrayIter(trainx, trainy, batch_size, shuffle=True)\n",
    "val_iter = mx.io.NDArrayIter(cvx, cvy, batch_size)\n",
    "\n",
    "SNN_model.fit(train_iter,  # train data\n",
    "              eval_data=val_iter,  # validation data\n",
    "                optimizer='sgd',\n",
    "                optimizer_params={'learning_rate':0.05, 'momentum': 0.9},\n",
    "                eval_metric='acc', \n",
    "                batch_end_callback = mx.callback.Speedometer(batch_size=batch_size, frequent=200),\n",
    "                num_epoch=15)\n"
   ]
  },
  {
   "cell_type": "markdown",
   "metadata": {
    "collapsed": true
   },
   "source": [
    "DEEP FULLY CONNECTED NEURAL NETWORK\n",
    "==========================="
   ]
  },
  {
   "cell_type": "code",
   "execution_count": 25,
   "metadata": {
    "collapsed": true
   },
   "outputs": [],
   "source": [
    "data = mx.sym.var('data')\n",
    "Y= mx.symbol.Variable('softmax_label') \n",
    "\n",
    "# first fullc layer\n",
    "flatten = mx.sym.flatten(data=data)\n",
    "fc1 = mx.symbol.FullyConnected(data=flatten, num_hidden=500)\n",
    "nlin1 = mx.sym.Activation(data=fc1, act_type=\"relu\") \n",
    "\n",
    "# second fullc layer\n",
    "fc2 = mx.symbol.FullyConnected(data=nlin1, num_hidden=500)\n",
    "nlin2 = mx.sym.Activation(data=fc2, act_type=\"relu\") \n",
    "\n",
    "# third fullc layer\n",
    "fc3 = mx.symbol.FullyConnected(data=nlin2, num_hidden=500)\n",
    "nlin3 = mx.sym.Activation(data=fc3, act_type=\"relu\") \n",
    "\n",
    "# output fullc\n",
    "fc4 = mx.sym.FullyConnected(data=nlin3, num_hidden=10)\n",
    "# Regress output\n",
    "DNN = mx.symbol.SoftmaxOutput(data=fc4, label=Y, name=\"DNN\") "
   ]
  },
  {
   "cell_type": "code",
   "execution_count": 26,
   "metadata": {
    "collapsed": true
   },
   "outputs": [],
   "source": [
    "DNN_model = mx.mod.Module(symbol=DNN, label_names =['softmax_label'], context=mx.cpu())"
   ]
  },
  {
   "cell_type": "code",
   "execution_count": 27,
   "metadata": {},
   "outputs": [
    {
     "name": "stderr",
     "output_type": "stream",
     "text": [
      "INFO:root:Epoch[0] Batch [200]\tSpeed: 2865.04 samples/sec\taccuracy=0.105124\n",
      "INFO:root:Epoch[0] Train-accuracy=0.184296\n",
      "INFO:root:Epoch[0] Time cost=11.542\n",
      "INFO:root:Epoch[0] Validation-accuracy=0.253571\n",
      "INFO:root:Epoch[1] Batch [200]\tSpeed: 2976.50 samples/sec\taccuracy=0.730000\n",
      "INFO:root:Epoch[1] Train-accuracy=0.913333\n",
      "INFO:root:Epoch[1] Time cost=11.411\n",
      "INFO:root:Epoch[1] Validation-accuracy=0.920119\n",
      "INFO:root:Epoch[2] Batch [200]\tSpeed: 2969.34 samples/sec\taccuracy=0.940995\n",
      "INFO:root:Epoch[2] Train-accuracy=0.955556\n",
      "INFO:root:Epoch[2] Time cost=11.425\n",
      "INFO:root:Epoch[2] Validation-accuracy=0.948571\n",
      "INFO:root:Epoch[3] Batch [200]\tSpeed: 2948.02 samples/sec\taccuracy=0.963731\n",
      "INFO:root:Epoch[3] Train-accuracy=0.968519\n",
      "INFO:root:Epoch[3] Time cost=11.514\n",
      "INFO:root:Epoch[3] Validation-accuracy=0.960357\n",
      "INFO:root:Epoch[4] Batch [200]\tSpeed: 2927.57 samples/sec\taccuracy=0.974627\n",
      "INFO:root:Epoch[4] Train-accuracy=0.976519\n",
      "INFO:root:Epoch[4] Time cost=11.666\n",
      "INFO:root:Epoch[4] Validation-accuracy=0.966667\n",
      "INFO:root:Epoch[5] Batch [200]\tSpeed: 2892.93 samples/sec\taccuracy=0.980199\n",
      "INFO:root:Epoch[5] Train-accuracy=0.982000\n",
      "INFO:root:Epoch[5] Time cost=11.640\n",
      "INFO:root:Epoch[5] Validation-accuracy=0.966071\n",
      "INFO:root:Epoch[6] Batch [200]\tSpeed: 2907.90 samples/sec\taccuracy=0.985970\n",
      "INFO:root:Epoch[6] Train-accuracy=0.982370\n",
      "INFO:root:Epoch[6] Time cost=11.940\n",
      "INFO:root:Epoch[6] Validation-accuracy=0.962024\n",
      "INFO:root:Epoch[7] Batch [200]\tSpeed: 2908.15 samples/sec\taccuracy=0.987512\n",
      "INFO:root:Epoch[7] Train-accuracy=0.985185\n",
      "INFO:root:Epoch[7] Time cost=11.699\n",
      "INFO:root:Epoch[7] Validation-accuracy=0.962500\n",
      "INFO:root:Epoch[8] Batch [200]\tSpeed: 2915.57 samples/sec\taccuracy=0.988109\n",
      "INFO:root:Epoch[8] Train-accuracy=0.987185\n",
      "INFO:root:Epoch[8] Time cost=11.673\n",
      "INFO:root:Epoch[8] Validation-accuracy=0.972024\n",
      "INFO:root:Epoch[9] Batch [200]\tSpeed: 2677.00 samples/sec\taccuracy=0.990746\n",
      "INFO:root:Epoch[9] Train-accuracy=0.991704\n",
      "INFO:root:Epoch[9] Time cost=12.317\n",
      "INFO:root:Epoch[9] Validation-accuracy=0.972857\n",
      "INFO:root:Epoch[10] Batch [200]\tSpeed: 2396.06 samples/sec\taccuracy=0.993682\n",
      "INFO:root:Epoch[10] Train-accuracy=0.994889\n",
      "INFO:root:Epoch[10] Time cost=14.101\n",
      "INFO:root:Epoch[10] Validation-accuracy=0.970714\n",
      "INFO:root:Epoch[11] Batch [200]\tSpeed: 2550.94 samples/sec\taccuracy=0.995373\n",
      "INFO:root:Epoch[11] Train-accuracy=0.993556\n",
      "INFO:root:Epoch[11] Time cost=12.594\n",
      "INFO:root:Epoch[11] Validation-accuracy=0.974643\n",
      "INFO:root:Epoch[12] Batch [200]\tSpeed: 2686.68 samples/sec\taccuracy=0.993234\n",
      "INFO:root:Epoch[12] Train-accuracy=0.994000\n",
      "INFO:root:Epoch[12] Time cost=12.822\n",
      "INFO:root:Epoch[12] Validation-accuracy=0.969524\n",
      "INFO:root:Epoch[13] Batch [200]\tSpeed: 2900.27 samples/sec\taccuracy=0.995672\n",
      "INFO:root:Epoch[13] Train-accuracy=0.995481\n",
      "INFO:root:Epoch[13] Time cost=11.668\n",
      "INFO:root:Epoch[13] Validation-accuracy=0.971786\n",
      "INFO:root:Epoch[14] Batch [200]\tSpeed: 2871.41 samples/sec\taccuracy=0.995224\n",
      "INFO:root:Epoch[14] Train-accuracy=0.990074\n",
      "INFO:root:Epoch[14] Time cost=11.781\n",
      "INFO:root:Epoch[14] Validation-accuracy=0.972143\n"
     ]
    }
   ],
   "source": [
    "batch_size = 100\n",
    "train_iter = mx.io.NDArrayIter(trainx, trainy, batch_size, shuffle=True)\n",
    "val_iter = mx.io.NDArrayIter(cvx, cvy, batch_size)\n",
    "\n",
    "DNN_model.fit(train_iter,  # train data\n",
    "              eval_data=val_iter,  # validation data\n",
    "                optimizer='sgd',\n",
    "                optimizer_params={'learning_rate':0.05, 'momentum': 0.9},\n",
    "                eval_metric='acc', #'acc' or mx.metric.RMSE()\n",
    "                batch_end_callback = mx.callback.Speedometer(batch_size=batch_size, frequent=200),\n",
    "              #batch_end_callback = mx.callback.log_train_metric(2),\n",
    "                num_epoch=15)\n"
   ]
  },
  {
   "cell_type": "markdown",
   "metadata": {
    "collapsed": true
   },
   "source": [
    "CONVOLUTIONAL NEURAL NETWORK\n",
    "==========================="
   ]
  },
  {
   "cell_type": "code",
   "execution_count": 28,
   "metadata": {
    "collapsed": true
   },
   "outputs": [],
   "source": [
    "data = mx.sym.var('data')\n",
    "Y= mx.symbol.Variable('softmax_label') \n",
    "\n",
    "# first conv layer\n",
    "conv1 = mx.sym.Convolution(data=data, kernel=(5,5), num_filter=20)\n",
    "nlin1 = mx.sym.Activation(data=conv1, act_type=\"relu\")\n",
    "pool1 = mx.sym.Pooling(data=nlin1, pool_type=\"max\", kernel=(2,2), stride=(2,2))\n",
    "drop1 = mx.symbol.Dropout(data=pool1,p=0.5)\n",
    "# second conv layer\n",
    "conv2 = mx.sym.Convolution(data=drop1, kernel=(5,5), num_filter=40)\n",
    "nlin2 = mx.sym.Activation(data=conv2, act_type=\"relu\")\n",
    "pool2 = mx.sym.Pooling(data=nlin2, pool_type=\"max\", kernel=(2,2), stride=(2,2))\n",
    "drop2 = mx.symbol.Dropout(data=pool2,p=0.5)\n",
    "# first fullc layer\n",
    "flatten = mx.sym.flatten(data=drop2)\n",
    "fc1 = mx.symbol.FullyConnected(data=flatten, num_hidden=500)\n",
    "nlin3 = mx.sym.Activation(data=fc1, act_type=\"relu\")\n",
    "\n",
    "# output fullc\n",
    "fc2 = mx.sym.FullyConnected(data=nlin3, num_hidden=10)\n",
    "# Regress output\n",
    "CNN = mx.symbol.SoftmaxOutput(data=fc2, label=Y,name=\"CCN\")"
   ]
  },
  {
   "cell_type": "code",
   "execution_count": 29,
   "metadata": {
    "collapsed": true
   },
   "outputs": [],
   "source": [
    "CNN_model = mx.mod.Module(symbol=CNN, label_names =['softmax_label'], context=mx.cpu())"
   ]
  },
  {
   "cell_type": "code",
   "execution_count": 32,
   "metadata": {},
   "outputs": [
    {
     "name": "stderr",
     "output_type": "stream",
     "text": [
      "INFO:root:Epoch[0] Batch [200]\tSpeed: 490.66 samples/sec\taccuracy=0.108408\n",
      "INFO:root:Epoch[0] Train-accuracy=0.384593\n",
      "INFO:root:Epoch[0] Time cost=65.863\n",
      "INFO:root:Epoch[0] Validation-accuracy=0.895833\n",
      "INFO:root:Epoch[1] Batch [200]\tSpeed: 552.99 samples/sec\taccuracy=0.907114\n",
      "INFO:root:Epoch[1] Train-accuracy=0.942444\n",
      "INFO:root:Epoch[1] Time cost=60.782\n",
      "INFO:root:Epoch[1] Validation-accuracy=0.973929\n",
      "INFO:root:Epoch[2] Batch [200]\tSpeed: 550.81 samples/sec\taccuracy=0.954378\n",
      "INFO:root:Epoch[2] Train-accuracy=0.960370\n",
      "INFO:root:Epoch[2] Time cost=61.021\n",
      "INFO:root:Epoch[2] Validation-accuracy=0.981429\n",
      "INFO:root:Epoch[3] Batch [200]\tSpeed: 546.97 samples/sec\taccuracy=0.964478\n",
      "INFO:root:Epoch[3] Train-accuracy=0.964593\n",
      "INFO:root:Epoch[3] Time cost=60.928\n",
      "INFO:root:Epoch[3] Validation-accuracy=0.986429\n",
      "INFO:root:Epoch[4] Batch [200]\tSpeed: 556.53 samples/sec\taccuracy=0.967114\n",
      "INFO:root:Epoch[4] Train-accuracy=0.969852\n",
      "INFO:root:Epoch[4] Time cost=61.594\n",
      "INFO:root:Epoch[4] Validation-accuracy=0.987143\n",
      "INFO:root:Epoch[5] Batch [200]\tSpeed: 542.78 samples/sec\taccuracy=0.973383\n",
      "INFO:root:Epoch[5] Train-accuracy=0.972519\n",
      "INFO:root:Epoch[5] Time cost=64.236\n",
      "INFO:root:Epoch[5] Validation-accuracy=0.989167\n",
      "INFO:root:Epoch[6] Batch [200]\tSpeed: 547.28 samples/sec\taccuracy=0.974726\n",
      "INFO:root:Epoch[6] Train-accuracy=0.972741\n",
      "INFO:root:Epoch[6] Time cost=65.976\n",
      "INFO:root:Epoch[6] Validation-accuracy=0.986667\n",
      "INFO:root:Epoch[7] Batch [200]\tSpeed: 527.26 samples/sec\taccuracy=0.976716\n",
      "INFO:root:Epoch[7] Train-accuracy=0.974963\n",
      "INFO:root:Epoch[7] Time cost=63.018\n",
      "INFO:root:Epoch[7] Validation-accuracy=0.986667\n",
      "INFO:root:Epoch[8] Batch [200]\tSpeed: 549.27 samples/sec\taccuracy=0.976219\n",
      "INFO:root:Epoch[8] Train-accuracy=0.976815\n",
      "INFO:root:Epoch[8] Time cost=61.790\n",
      "INFO:root:Epoch[8] Validation-accuracy=0.989881\n",
      "INFO:root:Epoch[9] Batch [200]\tSpeed: 550.18 samples/sec\taccuracy=0.980348\n",
      "INFO:root:Epoch[9] Train-accuracy=0.978815\n",
      "INFO:root:Epoch[9] Time cost=61.776\n",
      "INFO:root:Epoch[9] Validation-accuracy=0.988810\n",
      "INFO:root:Epoch[10] Batch [200]\tSpeed: 552.33 samples/sec\taccuracy=0.980050\n",
      "INFO:root:Epoch[10] Train-accuracy=0.978963\n",
      "INFO:root:Epoch[10] Time cost=60.788\n",
      "INFO:root:Epoch[10] Validation-accuracy=0.990000\n",
      "INFO:root:Epoch[11] Batch [200]\tSpeed: 554.27 samples/sec\taccuracy=0.980050\n",
      "INFO:root:Epoch[11] Train-accuracy=0.980889\n",
      "INFO:root:Epoch[11] Time cost=61.006\n",
      "INFO:root:Epoch[11] Validation-accuracy=0.991071\n",
      "INFO:root:Epoch[12] Batch [200]\tSpeed: 543.14 samples/sec\taccuracy=0.980995\n",
      "INFO:root:Epoch[12] Train-accuracy=0.979259\n",
      "INFO:root:Epoch[12] Time cost=61.309\n",
      "INFO:root:Epoch[12] Validation-accuracy=0.990238\n",
      "INFO:root:Epoch[13] Batch [200]\tSpeed: 535.82 samples/sec\taccuracy=0.981940\n",
      "INFO:root:Epoch[13] Train-accuracy=0.980519\n",
      "INFO:root:Epoch[13] Time cost=62.916\n",
      "INFO:root:Epoch[13] Validation-accuracy=0.990357\n",
      "INFO:root:Epoch[14] Batch [200]\tSpeed: 527.86 samples/sec\taccuracy=0.981343\n",
      "INFO:root:Epoch[14] Train-accuracy=0.980444\n",
      "INFO:root:Epoch[14] Time cost=63.453\n",
      "INFO:root:Epoch[14] Validation-accuracy=0.990000\n"
     ]
    }
   ],
   "source": [
    "batch_size = 100\n",
    "train_iter = mx.io.NDArrayIter(trainx, trainy, batch_size, shuffle=True)\n",
    "val_iter = mx.io.NDArrayIter(cvx, cvy, batch_size)\n",
    "\n",
    "CNN_model.fit(train_iter,  # train data\n",
    "              eval_data=val_iter,  # validation data\n",
    "                optimizer='sgd',\n",
    "                optimizer_params={'learning_rate':0.05, 'momentum': 0.9},\n",
    "                eval_metric='acc', #'acc' or mx.metric.RMSE()\n",
    "                batch_end_callback = mx.callback.Speedometer(batch_size=batch_size, frequent=200),\n",
    "              #batch_end_callback = mx.callback.log_train_metric(2),\n",
    "                num_epoch=15)\n"
   ]
  }
 ],
 "metadata": {
  "kernelspec": {
   "display_name": "Python 3",
   "language": "python",
   "name": "python3"
  },
  "language_info": {
   "codemirror_mode": {
    "name": "ipython",
    "version": 3
   },
   "file_extension": ".py",
   "mimetype": "text/x-python",
   "name": "python",
   "nbconvert_exporter": "python",
   "pygments_lexer": "ipython3",
   "version": "3.6.3"
  }
 },
 "nbformat": 4,
 "nbformat_minor": 2
}
