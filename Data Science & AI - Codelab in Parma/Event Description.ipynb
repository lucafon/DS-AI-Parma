{
 "cells": [
  {
   "cell_type": "markdown",
   "metadata": {},
   "source": [
    "# Data Science & AI | Codelab in Parma"
   ]
  },
  {
   "cell_type": "markdown",
   "metadata": {},
   "source": [
    "## Descrizione evento"
   ]
  },
  {
   "cell_type": "markdown",
   "metadata": {},
   "source": [
    "Dopo gli incontri di introduzione ai temi di Data Science, Machine Learning e Artificial Intelligence tenuti presso FabLab e Caffeina, DS&AI Parma vi propone un incontro in cui iniziare a fare insieme i primi passi nel Machine Learning ed AI.\n",
    "\n",
    "L’incontro sarà strutturato in due parti principali:\n",
    "\n",
    "* Machine Learning codelab nel quale si introdurranno i principali concetti di ML si vedrà un esempio di applicazione di computer vision\n",
    "* Machine Learning in the cloud nel quale verranno illustrati i vantaggi nell’utilizzo di piattaforme di cloud computing a supporto di Data Science e Machine Learning \n",
    "\n",
    "In entrambi gli interventi i partecipanti potranno portare i proprio laptop per provare in prima persona gli strumenti mostrati."
   ]
  },
  {
   "cell_type": "markdown",
   "metadata": {},
   "source": [
    "## Requisiti per seguire le attività pratiche\n",
    "\n",
    "Durante la presentazione verranno utilizzati i seguenti strumenti:\n",
    "* python\n",
    "* jupyter\n",
    "* pip\n",
    "* java\n",
    "* mxnet\n",
    "* h2o\n",
    "* tensorflow\n",
    "* keras\n",
    "\n",
    "È inoltre possibile seguire la presentazione in maniera interattiva sul proprio PC o anche su una istanza di Google Cloud Platform (per questo è necessario creare un account GRATUITO GCP https://cloud.google.com/free/).\n",
    "\n",
    "Tutto il codice necessario è disponibile al download dal repo Git pubblico https://github.com/lucafon/DS-AI-Parma.\n",
    "\n",
    "Per clonare in locale la repo eseguire \n",
    "\n",
    "`git clone https://github.com/lucafon/DS-AI-Parma.git`"
   ]
  },
  {
   "cell_type": "markdown",
   "metadata": {},
   "source": [
    "```yum upgrade python-setuptools\n",
    "yum install python-pip python-wheel\n",
    "yum install java-1.8.0-openjdk-devel\n",
    "pip install mxnet\n",
    "pip install h2o\n",
    "pip install tensorflow\n",
    "pip install keras\n",
    "```\n"
   ]
  },
  {
   "cell_type": "markdown",
   "metadata": {},
   "source": [
    "## Opening & Intro (16:00 - 16:30)\n",
    "\n",
    "Introduzione al DS&AI group di Parma, registrazione, setup."
   ]
  },
  {
   "cell_type": "markdown",
   "metadata": {},
   "source": [
    "## Getting started with AI - Computer Vision 101 (16:30 - 17:30)\n",
    "### Agenda\n",
    "* **Machine Learning & Computer Vision**\n",
    "* **Digit recognition - MNIST data set**\n",
    "* **Artificial Neural Networks**\n",
    "* **Fully connected NN**\n",
    "* **Deep NN**\n",
    "* **Convolutional NN**"
   ]
  },
  {
   "cell_type": "markdown",
   "metadata": {},
   "source": [
    "## Pausa (17:30 - 17:45)"
   ]
  },
  {
   "cell_type": "markdown",
   "metadata": {},
   "source": [
    "## Scaling Machine Learning with Cloud Computing (17:45 - 18:45)\n",
    "### Agenda\n",
    "* **Svantaggi del on premise / Vantaggi Cloud Computing**\n",
    "* **Principali piattaforme di Cloud Computing**\n",
    "* **H2O on Cloud**"
   ]
  },
  {
   "cell_type": "markdown",
   "metadata": {},
   "source": [
    "## Networking, Q&A, B&A (18:45 - 19:00)"
   ]
  }
 ],
 "metadata": {
  "kernelspec": {
   "display_name": "Python 3",
   "language": "python",
   "name": "python3"
  },
  "language_info": {
   "codemirror_mode": {
    "name": "ipython",
    "version": 3
   },
   "file_extension": ".py",
   "mimetype": "text/x-python",
   "name": "python",
   "nbconvert_exporter": "python",
   "pygments_lexer": "ipython3",
   "version": "3.6.4"
  }
 },
 "nbformat": 4,
 "nbformat_minor": 2
}
