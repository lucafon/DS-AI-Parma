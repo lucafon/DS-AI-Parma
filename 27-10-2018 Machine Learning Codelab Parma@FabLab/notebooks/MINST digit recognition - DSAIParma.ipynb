{
 "cells": [
  {
   "cell_type": "code",
   "execution_count": 14,
   "metadata": {},
   "outputs": [],
   "source": [
    "import numpy as np\n",
    "import pandas as pd\n",
    "import mxnet as mx \n",
    "import matplotlib.pyplot as plt\n",
    "import plotly.plotly as py\n",
    "import logging\n",
    "\n",
    "logging.basicConfig(level=logging.DEBUG)"
   ]
  },
  {
   "cell_type": "code",
   "execution_count": 15,
   "metadata": {},
   "outputs": [],
   "source": [
    "train1=pd.read_csv('../data/train.csv')"
   ]
  },
  {
   "cell_type": "code",
   "execution_count": 16,
   "metadata": {},
   "outputs": [
    {
     "data": {
      "text/plain": [
       "(42000, 785)"
      ]
     },
     "execution_count": 16,
     "metadata": {},
     "output_type": "execute_result"
    }
   ],
   "source": [
    "train1.shape"
   ]
  },
  {
   "cell_type": "code",
   "execution_count": 17,
   "metadata": {},
   "outputs": [
    {
     "data": {
      "text/html": [
       "<div>\n",
       "<style scoped>\n",
       "    .dataframe tbody tr th:only-of-type {\n",
       "        vertical-align: middle;\n",
       "    }\n",
       "\n",
       "    .dataframe tbody tr th {\n",
       "        vertical-align: top;\n",
       "    }\n",
       "\n",
       "    .dataframe thead th {\n",
       "        text-align: right;\n",
       "    }\n",
       "</style>\n",
       "<table border=\"1\" class=\"dataframe\">\n",
       "  <thead>\n",
       "    <tr style=\"text-align: right;\">\n",
       "      <th></th>\n",
       "      <th>label</th>\n",
       "      <th>pixel0</th>\n",
       "      <th>pixel1</th>\n",
       "      <th>pixel2</th>\n",
       "      <th>pixel3</th>\n",
       "      <th>pixel4</th>\n",
       "      <th>pixel5</th>\n",
       "      <th>pixel6</th>\n",
       "      <th>pixel7</th>\n",
       "      <th>pixel8</th>\n",
       "      <th>pixel9</th>\n",
       "      <th>pixel10</th>\n",
       "      <th>pixel11</th>\n",
       "      <th>pixel12</th>\n",
       "      <th>pixel13</th>\n",
       "    </tr>\n",
       "  </thead>\n",
       "  <tbody>\n",
       "    <tr>\n",
       "      <th>0</th>\n",
       "      <td>1</td>\n",
       "      <td>0</td>\n",
       "      <td>0</td>\n",
       "      <td>0</td>\n",
       "      <td>0</td>\n",
       "      <td>0</td>\n",
       "      <td>0</td>\n",
       "      <td>0</td>\n",
       "      <td>0</td>\n",
       "      <td>0</td>\n",
       "      <td>0</td>\n",
       "      <td>0</td>\n",
       "      <td>0</td>\n",
       "      <td>0</td>\n",
       "      <td>0</td>\n",
       "    </tr>\n",
       "    <tr>\n",
       "      <th>1</th>\n",
       "      <td>0</td>\n",
       "      <td>0</td>\n",
       "      <td>0</td>\n",
       "      <td>0</td>\n",
       "      <td>0</td>\n",
       "      <td>0</td>\n",
       "      <td>0</td>\n",
       "      <td>0</td>\n",
       "      <td>0</td>\n",
       "      <td>0</td>\n",
       "      <td>0</td>\n",
       "      <td>0</td>\n",
       "      <td>0</td>\n",
       "      <td>0</td>\n",
       "      <td>0</td>\n",
       "    </tr>\n",
       "    <tr>\n",
       "      <th>2</th>\n",
       "      <td>1</td>\n",
       "      <td>0</td>\n",
       "      <td>0</td>\n",
       "      <td>0</td>\n",
       "      <td>0</td>\n",
       "      <td>0</td>\n",
       "      <td>0</td>\n",
       "      <td>0</td>\n",
       "      <td>0</td>\n",
       "      <td>0</td>\n",
       "      <td>0</td>\n",
       "      <td>0</td>\n",
       "      <td>0</td>\n",
       "      <td>0</td>\n",
       "      <td>0</td>\n",
       "    </tr>\n",
       "    <tr>\n",
       "      <th>3</th>\n",
       "      <td>4</td>\n",
       "      <td>0</td>\n",
       "      <td>0</td>\n",
       "      <td>0</td>\n",
       "      <td>0</td>\n",
       "      <td>0</td>\n",
       "      <td>0</td>\n",
       "      <td>0</td>\n",
       "      <td>0</td>\n",
       "      <td>0</td>\n",
       "      <td>0</td>\n",
       "      <td>0</td>\n",
       "      <td>0</td>\n",
       "      <td>0</td>\n",
       "      <td>0</td>\n",
       "    </tr>\n",
       "  </tbody>\n",
       "</table>\n",
       "</div>"
      ],
      "text/plain": [
       "   label  pixel0  pixel1  pixel2  pixel3  pixel4  pixel5  pixel6  pixel7  \\\n",
       "0      1       0       0       0       0       0       0       0       0   \n",
       "1      0       0       0       0       0       0       0       0       0   \n",
       "2      1       0       0       0       0       0       0       0       0   \n",
       "3      4       0       0       0       0       0       0       0       0   \n",
       "\n",
       "   pixel8  pixel9  pixel10  pixel11  pixel12  pixel13  \n",
       "0       0       0        0        0        0        0  \n",
       "1       0       0        0        0        0        0  \n",
       "2       0       0        0        0        0        0  \n",
       "3       0       0        0        0        0        0  "
      ]
     },
     "execution_count": 17,
     "metadata": {},
     "output_type": "execute_result"
    }
   ],
   "source": [
    "train1.iloc[0:4, 0:15]"
   ]
  },
  {
   "cell_type": "code",
   "execution_count": 18,
   "metadata": {},
   "outputs": [],
   "source": [
    "train=np.asarray(train1.iloc[0:33600,:])"
   ]
  },
  {
   "cell_type": "code",
   "execution_count": 19,
   "metadata": {},
   "outputs": [],
   "source": [
    "cv=np.asarray(train1.iloc[33600:,:])"
   ]
  },
  {
   "cell_type": "code",
   "execution_count": 20,
   "metadata": {},
   "outputs": [],
   "source": [
    "_train=train[:,1:]"
   ]
  },
  {
   "cell_type": "code",
   "execution_count": 21,
   "metadata": {},
   "outputs": [
    {
     "data": {
      "text/plain": [
       "(33600, 784)"
      ]
     },
     "execution_count": 21,
     "metadata": {},
     "output_type": "execute_result"
    }
   ],
   "source": [
    "_train.shape"
   ]
  },
  {
   "cell_type": "code",
   "execution_count": 22,
   "metadata": {},
   "outputs": [],
   "source": [
    "_cv=cv[:,1:]"
   ]
  },
  {
   "cell_type": "code",
   "execution_count": 23,
   "metadata": {},
   "outputs": [
    {
     "data": {
      "text/plain": [
       "(8400, 784)"
      ]
     },
     "execution_count": 23,
     "metadata": {},
     "output_type": "execute_result"
    }
   ],
   "source": [
    "_cv.shape"
   ]
  },
  {
   "cell_type": "code",
   "execution_count": 24,
   "metadata": {},
   "outputs": [],
   "source": [
    "trainx=np.reshape(_train, (_train.shape[0],1,28,28))/255"
   ]
  },
  {
   "cell_type": "code",
   "execution_count": 25,
   "metadata": {},
   "outputs": [],
   "source": [
    "cvx=np.reshape(_cv, (_cv.shape[0],1,28,28))/255"
   ]
  },
  {
   "cell_type": "code",
   "execution_count": 26,
   "metadata": {},
   "outputs": [
    {
     "name": "stderr",
     "output_type": "stream",
     "text": [
      "DEBUG:matplotlib.axes._base:update_title_pos\n",
      "DEBUG:matplotlib.font_manager:findfont: Matching :family=sans-serif:style=normal:variant=normal:weight=normal:stretch=normal:size=10.0 to DejaVu Sans ('/home/pietro/.local/lib/python3.6/site-packages/matplotlib/mpl-data/fonts/ttf/DejaVuSans.ttf') with score of 0.050000.\n",
      "DEBUG:matplotlib.axes._base:update_title_pos\n",
      "DEBUG:matplotlib.axes._base:update_title_pos\n",
      "DEBUG:matplotlib.axes._base:update_title_pos\n"
     ]
    },
    {
     "data": {
      "image/png": "[encoded data removed]",
      "text/plain": [
       "<Figure size 432x288 with 1 Axes>"
      ]
     },
     "metadata": {
      "needs_background": "light"
     },
     "output_type": "display_data"
    }
   ],
   "source": [
    "ix=3\n",
    "img=np.asarray(np.matrix(trainx[ix,0,:,:]))\n",
    "plt.imshow(img, cmap='Greys_r')\n",
    "plt.show()"
   ]
  },
  {
   "cell_type": "code",
   "execution_count": 27,
   "metadata": {},
   "outputs": [],
   "source": [
    "trainy=np.asarray(train[:,0])"
   ]
  },
  {
   "cell_type": "code",
   "execution_count": 28,
   "metadata": {},
   "outputs": [],
   "source": [
    "cvy=np.asarray(cv[:,0])"
   ]
  },
  {
   "cell_type": "code",
   "execution_count": 29,
   "metadata": {},
   "outputs": [
    {
     "data": {
      "text/plain": [
       "(33600,)"
      ]
     },
     "execution_count": 29,
     "metadata": {},
     "output_type": "execute_result"
    }
   ],
   "source": [
    "trainy.shape"
   ]
  },
  {
   "cell_type": "markdown",
   "metadata": {
    "collapsed": true
   },
   "source": [
    "FULLY CONNECTED NEURAL NETWORK\n",
    "==========================="
   ]
  },
  {
   "cell_type": "code",
   "execution_count": 30,
   "metadata": {},
   "outputs": [],
   "source": [
    "data = mx.sym.var('data')\n",
    "Y= mx.symbol.Variable('softmax_label') \n",
    "\n",
    "# first fullc layer\n",
    "flatten = mx.sym.flatten(data=data)\n",
    "fc1 = mx.symbol.FullyConnected(data=flatten, num_hidden=500)\n",
    "nlin3 = mx.sym.Activation(data=fc1, act_type=\"relu\") \n",
    "\n",
    "# output fullc\n",
    "fc3 = mx.sym.FullyConnected(data=nlin3, num_hidden=10)\n",
    "# Softmax output\n",
    "SNN = mx.symbol.SoftmaxOutput(data=fc3, label=Y, name=\"SNN\") \n"
   ]
  },
  {
   "cell_type": "code",
   "execution_count": 31,
   "metadata": {},
   "outputs": [],
   "source": [
    "SNN_model = mx.mod.Module(symbol=SNN, label_names =['softmax_label'], context=mx.cpu())"
   ]
  },
  {
   "cell_type": "code",
   "execution_count": 32,
   "metadata": {},
   "outputs": [
    {
     "name": "stderr",
     "output_type": "stream",
     "text": [
      "INFO:root:Epoch[0] Batch [200]\tSpeed: 25691.58 samples/sec\taccuracy=0.807164\n",
      "INFO:root:Epoch[0] Train-accuracy=0.919333\n",
      "INFO:root:Epoch[0] Time cost=1.408\n",
      "INFO:root:Epoch[0] Validation-accuracy=0.933810\n",
      "INFO:root:Epoch[1] Batch [200]\tSpeed: 24465.87 samples/sec\taccuracy=0.943632\n",
      "INFO:root:Epoch[1] Train-accuracy=0.953704\n",
      "INFO:root:Epoch[1] Time cost=1.365\n",
      "INFO:root:Epoch[1] Validation-accuracy=0.954286\n",
      "INFO:root:Epoch[2] Batch [200]\tSpeed: 24888.19 samples/sec\taccuracy=0.963831\n",
      "INFO:root:Epoch[2] Train-accuracy=0.966741\n",
      "INFO:root:Epoch[2] Time cost=1.627\n",
      "INFO:root:Epoch[2] Validation-accuracy=0.961190\n",
      "INFO:root:Epoch[3] Batch [200]\tSpeed: 24366.09 samples/sec\taccuracy=0.973980\n",
      "INFO:root:Epoch[3] Train-accuracy=0.976000\n",
      "INFO:root:Epoch[3] Time cost=1.385\n",
      "INFO:root:Epoch[3] Validation-accuracy=0.965714\n",
      "INFO:root:Epoch[4] Batch [200]\tSpeed: 24050.02 samples/sec\taccuracy=0.980846\n",
      "INFO:root:Epoch[4] Train-accuracy=0.982148\n",
      "INFO:root:Epoch[4] Time cost=1.720\n",
      "INFO:root:Epoch[4] Validation-accuracy=0.968571\n",
      "INFO:root:Epoch[5] Batch [200]\tSpeed: 23954.51 samples/sec\taccuracy=0.985274\n",
      "INFO:root:Epoch[5] Train-accuracy=0.986370\n",
      "INFO:root:Epoch[5] Time cost=1.424\n",
      "INFO:root:Epoch[5] Validation-accuracy=0.971786\n",
      "INFO:root:Epoch[6] Batch [200]\tSpeed: 24057.36 samples/sec\taccuracy=0.989502\n",
      "INFO:root:Epoch[6] Train-accuracy=0.989704\n",
      "INFO:root:Epoch[6] Time cost=1.630\n",
      "INFO:root:Epoch[6] Validation-accuracy=0.973690\n",
      "INFO:root:Epoch[7] Batch [200]\tSpeed: 22639.45 samples/sec\taccuracy=0.992040\n",
      "INFO:root:Epoch[7] Train-accuracy=0.992296\n",
      "INFO:root:Epoch[7] Time cost=1.599\n",
      "INFO:root:Epoch[7] Validation-accuracy=0.974643\n",
      "INFO:root:Epoch[8] Batch [200]\tSpeed: 14969.08 samples/sec\taccuracy=0.994328\n",
      "INFO:root:Epoch[8] Train-accuracy=0.994519\n",
      "INFO:root:Epoch[8] Time cost=1.920\n",
      "INFO:root:Epoch[8] Validation-accuracy=0.973690\n",
      "INFO:root:Epoch[9] Batch [200]\tSpeed: 23560.69 samples/sec\taccuracy=0.996269\n",
      "INFO:root:Epoch[9] Train-accuracy=0.996148\n",
      "INFO:root:Epoch[9] Time cost=1.431\n",
      "INFO:root:Epoch[9] Validation-accuracy=0.973214\n",
      "INFO:root:Epoch[10] Batch [200]\tSpeed: 22929.49 samples/sec\taccuracy=0.997313\n",
      "INFO:root:Epoch[10] Train-accuracy=0.997704\n",
      "INFO:root:Epoch[10] Time cost=1.451\n",
      "INFO:root:Epoch[10] Validation-accuracy=0.973929\n",
      "INFO:root:Epoch[11] Batch [200]\tSpeed: 23966.96 samples/sec\taccuracy=0.998458\n",
      "INFO:root:Epoch[11] Train-accuracy=0.998444\n",
      "INFO:root:Epoch[11] Time cost=1.417\n",
      "INFO:root:Epoch[11] Validation-accuracy=0.974762\n",
      "INFO:root:Epoch[12] Batch [200]\tSpeed: 24212.15 samples/sec\taccuracy=0.998856\n",
      "INFO:root:Epoch[12] Train-accuracy=0.999037\n",
      "INFO:root:Epoch[12] Time cost=1.410\n",
      "INFO:root:Epoch[12] Validation-accuracy=0.975119\n",
      "INFO:root:Epoch[13] Batch [200]\tSpeed: 17209.84 samples/sec\taccuracy=0.999303\n",
      "INFO:root:Epoch[13] Train-accuracy=0.999630\n",
      "INFO:root:Epoch[13] Time cost=1.748\n",
      "INFO:root:Epoch[13] Validation-accuracy=0.974762\n",
      "INFO:root:Epoch[14] Batch [200]\tSpeed: 24002.44 samples/sec\taccuracy=0.999502\n",
      "INFO:root:Epoch[14] Train-accuracy=0.999630\n",
      "INFO:root:Epoch[14] Time cost=1.410\n",
      "INFO:root:Epoch[14] Validation-accuracy=0.975476\n"
     ]
    }
   ],
   "source": [
    "batch_size = 100\n",
    "train_iter = mx.io.NDArrayIter(trainx, trainy, batch_size, shuffle=True)\n",
    "val_iter = mx.io.NDArrayIter(cvx, cvy, batch_size)\n",
    "\n",
    "SNN_model.fit(train_iter,  # train data\n",
    "              eval_data=val_iter,  # validation data\n",
    "                optimizer='sgd',\n",
    "                optimizer_params={'learning_rate':0.05, 'momentum': 0.9},\n",
    "                eval_metric='acc', \n",
    "                batch_end_callback = mx.callback.Speedometer(batch_size=batch_size, frequent=200),\n",
    "                num_epoch=15)\n"
   ]
  },
  {
   "cell_type": "markdown",
   "metadata": {
    "collapsed": true
   },
   "source": [
    "DEEP FULLY CONNECTED NEURAL NETWORK\n",
    "==========================="
   ]
  },
  {
   "cell_type": "code",
   "execution_count": 33,
   "metadata": {},
   "outputs": [],
   "source": [
    "data = mx.sym.var('data')\n",
    "Y= mx.symbol.Variable('softmax_label') \n",
    "\n",
    "# first fullc layer\n",
    "flatten = mx.sym.flatten(data=data)\n",
    "fc1 = mx.symbol.FullyConnected(data=flatten, num_hidden=500)\n",
    "nlin1 = mx.sym.Activation(data=fc1, act_type=\"relu\") \n",
    "\n",
    "# second fullc layer\n",
    "fc2 = mx.symbol.FullyConnected(data=nlin1, num_hidden=500)\n",
    "nlin2 = mx.sym.Activation(data=fc2, act_type=\"relu\") \n",
    "\n",
    "# third fullc layer\n",
    "fc3 = mx.symbol.FullyConnected(data=nlin2, num_hidden=500)\n",
    "nlin3 = mx.sym.Activation(data=fc3, act_type=\"relu\") \n",
    "\n",
    "# output fullc\n",
    "fc4 = mx.sym.FullyConnected(data=nlin3, num_hidden=10)\n",
    "# Softmax output\n",
    "DNN = mx.symbol.SoftmaxOutput(data=fc4, label=Y, name=\"DNN\") "
   ]
  },
  {
   "cell_type": "code",
   "execution_count": 34,
   "metadata": {},
   "outputs": [],
   "source": [
    "DNN_model = mx.mod.Module(symbol=DNN, label_names =['softmax_label'], context=mx.cpu())"
   ]
  },
  {
   "cell_type": "code",
   "execution_count": 35,
   "metadata": {},
   "outputs": [
    {
     "name": "stderr",
     "output_type": "stream",
     "text": [
      "INFO:root:Epoch[0] Batch [200]\tSpeed: 8885.92 samples/sec\taccuracy=0.108905\n",
      "INFO:root:Epoch[0] Train-accuracy=0.180222\n",
      "INFO:root:Epoch[0] Time cost=3.767\n",
      "INFO:root:Epoch[0] Validation-accuracy=0.372500\n",
      "INFO:root:Epoch[1] Batch [200]\tSpeed: 9020.95 samples/sec\taccuracy=0.735771\n",
      "INFO:root:Epoch[1] Train-accuracy=0.904963\n",
      "INFO:root:Epoch[1] Time cost=3.961\n",
      "INFO:root:Epoch[1] Validation-accuracy=0.931667\n",
      "INFO:root:Epoch[2] Batch [200]\tSpeed: 8828.85 samples/sec\taccuracy=0.936418\n",
      "INFO:root:Epoch[2] Train-accuracy=0.952074\n",
      "INFO:root:Epoch[2] Time cost=3.776\n",
      "INFO:root:Epoch[2] Validation-accuracy=0.956548\n",
      "INFO:root:Epoch[3] Batch [200]\tSpeed: 8976.39 samples/sec\taccuracy=0.957512\n",
      "INFO:root:Epoch[3] Train-accuracy=0.966593\n",
      "INFO:root:Epoch[3] Time cost=3.766\n",
      "INFO:root:Epoch[3] Validation-accuracy=0.961786\n",
      "INFO:root:Epoch[4] Batch [200]\tSpeed: 8593.95 samples/sec\taccuracy=0.970945\n",
      "INFO:root:Epoch[4] Train-accuracy=0.976593\n",
      "INFO:root:Epoch[4] Time cost=4.418\n",
      "INFO:root:Epoch[4] Validation-accuracy=0.967024\n",
      "INFO:root:Epoch[5] Batch [200]\tSpeed: 7986.53 samples/sec\taccuracy=0.978358\n",
      "INFO:root:Epoch[5] Train-accuracy=0.980815\n",
      "INFO:root:Epoch[5] Time cost=4.333\n",
      "INFO:root:Epoch[5] Validation-accuracy=0.961786\n",
      "INFO:root:Epoch[6] Batch [200]\tSpeed: 8486.32 samples/sec\taccuracy=0.981244\n",
      "INFO:root:Epoch[6] Train-accuracy=0.987926\n",
      "INFO:root:Epoch[6] Time cost=3.953\n",
      "INFO:root:Epoch[6] Validation-accuracy=0.972500\n",
      "INFO:root:Epoch[7] Batch [200]\tSpeed: 8479.39 samples/sec\taccuracy=0.987512\n",
      "INFO:root:Epoch[7] Train-accuracy=0.989630\n",
      "INFO:root:Epoch[7] Time cost=3.997\n",
      "INFO:root:Epoch[7] Validation-accuracy=0.972024\n",
      "INFO:root:Epoch[8] Batch [200]\tSpeed: 8616.96 samples/sec\taccuracy=0.989005\n",
      "INFO:root:Epoch[8] Train-accuracy=0.990667\n",
      "INFO:root:Epoch[8] Time cost=3.890\n",
      "INFO:root:Epoch[8] Validation-accuracy=0.972143\n",
      "INFO:root:Epoch[9] Batch [200]\tSpeed: 8639.54 samples/sec\taccuracy=0.991592\n",
      "INFO:root:Epoch[9] Train-accuracy=0.989407\n",
      "INFO:root:Epoch[9] Time cost=3.883\n",
      "INFO:root:Epoch[9] Validation-accuracy=0.973810\n",
      "INFO:root:Epoch[10] Batch [200]\tSpeed: 8661.87 samples/sec\taccuracy=0.990597\n",
      "INFO:root:Epoch[10] Train-accuracy=0.992667\n",
      "INFO:root:Epoch[10] Time cost=4.145\n",
      "INFO:root:Epoch[10] Validation-accuracy=0.973452\n",
      "INFO:root:Epoch[11] Batch [200]\tSpeed: 8640.61 samples/sec\taccuracy=0.990846\n",
      "INFO:root:Epoch[11] Train-accuracy=0.993630\n",
      "INFO:root:Epoch[11] Time cost=4.239\n",
      "INFO:root:Epoch[11] Validation-accuracy=0.973690\n",
      "INFO:root:Epoch[12] Batch [200]\tSpeed: 8648.70 samples/sec\taccuracy=0.993682\n",
      "INFO:root:Epoch[12] Train-accuracy=0.993630\n",
      "INFO:root:Epoch[12] Time cost=3.933\n",
      "INFO:root:Epoch[12] Validation-accuracy=0.973452\n",
      "INFO:root:Epoch[13] Batch [200]\tSpeed: 8656.15 samples/sec\taccuracy=0.992985\n",
      "INFO:root:Epoch[13] Train-accuracy=0.996741\n",
      "INFO:root:Epoch[13] Time cost=4.249\n",
      "INFO:root:Epoch[13] Validation-accuracy=0.976190\n",
      "INFO:root:Epoch[14] Batch [200]\tSpeed: 8413.84 samples/sec\taccuracy=0.996468\n",
      "INFO:root:Epoch[14] Train-accuracy=0.997926\n",
      "INFO:root:Epoch[14] Time cost=3.990\n",
      "INFO:root:Epoch[14] Validation-accuracy=0.976905\n"
     ]
    }
   ],
   "source": [
    "batch_size = 100\n",
    "train_iter = mx.io.NDArrayIter(trainx, trainy, batch_size, shuffle=True)\n",
    "val_iter = mx.io.NDArrayIter(cvx, cvy, batch_size)\n",
    "\n",
    "DNN_model.fit(train_iter,  # train data\n",
    "              eval_data=val_iter,  # validation data\n",
    "                optimizer='sgd',\n",
    "                optimizer_params={'learning_rate':0.05, 'momentum': 0.9},\n",
    "                eval_metric='acc', \n",
    "                batch_end_callback = mx.callback.Speedometer(batch_size=batch_size, frequent=200),\n",
    "                num_epoch=15)\n"
   ]
  },
  {
   "cell_type": "markdown",
   "metadata": {
    "collapsed": true
   },
   "source": [
    "CONVOLUTIONAL NEURAL NETWORK\n",
    "==========================="
   ]
  },
  {
   "cell_type": "code",
   "execution_count": 36,
   "metadata": {},
   "outputs": [],
   "source": [
    "data = mx.sym.var('data')\n",
    "Y= mx.symbol.Variable('softmax_label') \n",
    "\n",
    "# first conv layer\n",
    "conv1 = mx.sym.Convolution(data=data, kernel=(5,5), num_filter=20)\n",
    "nlin1 = mx.sym.Activation(data=conv1, act_type=\"relu\")\n",
    "pool1 = mx.sym.Pooling(data=nlin1, pool_type=\"max\", kernel=(2,2), stride=(2,2))\n",
    "drop1 = mx.symbol.Dropout(data=pool1,p=0.5)\n",
    "# second conv layer\n",
    "conv2 = mx.sym.Convolution(data=drop1, kernel=(5,5), num_filter=40)\n",
    "nlin2 = mx.sym.Activation(data=conv2, act_type=\"relu\")\n",
    "pool2 = mx.sym.Pooling(data=nlin2, pool_type=\"max\", kernel=(2,2), stride=(2,2))\n",
    "drop2 = mx.symbol.Dropout(data=pool2,p=0.5)\n",
    "# first fullc layer\n",
    "flatten = mx.sym.flatten(data=drop2)\n",
    "fc1 = mx.symbol.FullyConnected(data=flatten, num_hidden=500)\n",
    "nlin3 = mx.sym.Activation(data=fc1, act_type=\"relu\")\n",
    "\n",
    "# output fullc\n",
    "fc2 = mx.sym.FullyConnected(data=nlin3, num_hidden=10)\n",
    "# Softmax output\n",
    "CNN = mx.symbol.SoftmaxOutput(data=fc2, label=Y,name=\"CCN\")"
   ]
  },
  {
   "cell_type": "code",
   "execution_count": 37,
   "metadata": {},
   "outputs": [],
   "source": [
    "CNN_model = mx.mod.Module(symbol=CNN, label_names =['softmax_label'], context=mx.cpu())"
   ]
  },
  {
   "cell_type": "code",
   "execution_count": null,
   "metadata": {},
   "outputs": [
    {
     "name": "stderr",
     "output_type": "stream",
     "text": [
      "INFO:root:Epoch[0] Batch [200]\tSpeed: 1549.95 samples/sec\taccuracy=0.107761\n",
      "INFO:root:Epoch[0] Train-accuracy=0.396370\n",
      "INFO:root:Epoch[0] Time cost=22.700\n",
      "INFO:root:Epoch[0] Validation-accuracy=0.907381\n",
      "INFO:root:Epoch[1] Batch [200]\tSpeed: 1655.47 samples/sec\taccuracy=0.906567\n",
      "INFO:root:Epoch[1] Train-accuracy=0.946519\n",
      "INFO:root:Epoch[1] Time cost=21.996\n",
      "INFO:root:Epoch[1] Validation-accuracy=0.976429\n",
      "INFO:root:Epoch[2] Batch [200]\tSpeed: 1445.82 samples/sec\taccuracy=0.954129\n",
      "INFO:root:Epoch[2] Train-accuracy=0.962296\n",
      "INFO:root:Epoch[2] Time cost=22.050\n",
      "INFO:root:Epoch[2] Validation-accuracy=0.983333\n",
      "INFO:root:Epoch[3] Batch [200]\tSpeed: 1573.92 samples/sec\taccuracy=0.963433\n"
     ]
    }
   ],
   "source": [
    "batch_size = 100\n",
    "train_iter = mx.io.NDArrayIter(trainx, trainy, batch_size, shuffle=True)\n",
    "val_iter = mx.io.NDArrayIter(cvx, cvy, batch_size)\n",
    "\n",
    "CNN_model.fit(train_iter,  # train data\n",
    "              eval_data=val_iter,  # validation data\n",
    "                optimizer='sgd',\n",
    "                optimizer_params={'learning_rate':0.05, 'momentum': 0.9},\n",
    "                eval_metric='acc', \n",
    "                batch_end_callback = mx.callback.Speedometer(batch_size=batch_size, frequent=200),              \n",
    "                num_epoch=15)\n"
   ]
  },
  {
   "cell_type": "code",
   "execution_count": null,
   "metadata": {},
   "outputs": [],
   "source": []
  }
 ],
 "metadata": {
  "kernelspec": {
   "display_name": "Python 3",
   "language": "python",
   "name": "python3"
  },
  "language_info": {
   "codemirror_mode": {
    "name": "ipython",
    "version": 3
   },
   "file_extension": ".py",
   "mimetype": "text/x-python",
   "name": "python",
   "nbconvert_exporter": "python",
   "pygments_lexer": "ipython3",
   "version": "3.6.6"
  }
 },
 "nbformat": 4,
 "nbformat_minor": 2
}
